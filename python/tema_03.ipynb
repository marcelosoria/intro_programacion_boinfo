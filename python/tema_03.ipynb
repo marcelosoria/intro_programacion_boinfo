{
 "cells": [
  {
   "cell_type": "markdown",
   "metadata": {},
   "source": [
    "# Otras estructuras de datos, operadores relacionales, operadores lógicos y sentencias condicionales"
   ]
  },
  {
   "cell_type": "markdown",
   "metadata": {},
   "source": [
    "## Tuplas y diccionarios"
   ]
  },
  {
   "cell_type": "markdown",
   "metadata": {},
   "source": [
    "Hay otras dos estructuras de datos que es útil conocer.\n",
    "\n",
    "La primera son las **tuplas**, que también son colecciones de datos como las listas, pero son *inmutable*. Esto es, una vez que se crea no se pueden modificar más. Es por este motivo que no se usan tanto como las listas. Son útiles, por ejemplo, para casos donde no queremos hacer modificaciones accidentales de los datos.\n",
    "\n",
    "A diferencia de las listas, las tuplas se delimitan con paréntesis."
   ]
  },
  {
   "cell_type": "code",
   "execution_count": 1,
   "metadata": {},
   "outputs": [],
   "source": [
    "fin_de_semana = ('sabado', 'domingo')"
   ]
  },
  {
   "cell_type": "code",
   "execution_count": 2,
   "metadata": {},
   "outputs": [
    {
     "data": {
      "text/plain": [
       "tuple"
      ]
     },
     "execution_count": 2,
     "metadata": {},
     "output_type": "execute_result"
    }
   ],
   "source": [
    "type(fin_de_semana)"
   ]
  },
  {
   "cell_type": "markdown",
   "metadata": {},
   "source": [
    "Para refernciar los elementos individuales se usan corchetes:"
   ]
  },
  {
   "cell_type": "code",
   "execution_count": 3,
   "metadata": {},
   "outputs": [
    {
     "data": {
      "text/plain": [
       "'sabado'"
      ]
     },
     "execution_count": 3,
     "metadata": {},
     "output_type": "execute_result"
    }
   ],
   "source": [
    "fin_de_semana[0]"
   ]
  },
  {
   "cell_type": "markdown",
   "metadata": {},
   "source": [
    "Otra estructura emparentada con las listas y tuplas son los **diccionarios**. Estas son estructuras de uso común y más sofisitcadas que las listas.\n",
    "\n",
    "Mientras que las listas son colecciones de elementos que se referencian por su posición dentro de la colección, en los diccionarios cada elemento es una dupla: una clave y un valor, y los elementos se pueden referenciar por su clave.\n",
    "\n",
    "Vamos a construir un diciconario con nombres científicos de algunas bacterias y como clave el correspondiente taxid del NCBI."
   ]
  },
  {
   "cell_type": "code",
   "execution_count": 4,
   "metadata": {},
   "outputs": [],
   "source": [
    "enterobacteriaceae = {\n",
    "    'txid562' : 'Escherichia coli',\n",
    "    'txid1748967': 'Citrobacter cronae',\n",
    "    'txid158877': 'Yokenella regensburgei',\n",
    "    'txid548': 'Klebsiella aerogenes'\n",
    "}\n"
   ]
  },
  {
   "cell_type": "code",
   "execution_count": 5,
   "metadata": {},
   "outputs": [
    {
     "data": {
      "text/plain": [
       "dict"
      ]
     },
     "execution_count": 5,
     "metadata": {},
     "output_type": "execute_result"
    }
   ],
   "source": [
    "type(enterobacteriaceae)"
   ]
  },
  {
   "cell_type": "markdown",
   "metadata": {},
   "source": [
    "Prestar atención a los siguientes ejemplos:"
   ]
  },
  {
   "cell_type": "code",
   "execution_count": 6,
   "metadata": {},
   "outputs": [
    {
     "data": {
      "text/plain": [
       "'Escherichia coli'"
      ]
     },
     "execution_count": 6,
     "metadata": {},
     "output_type": "execute_result"
    }
   ],
   "source": [
    "enterobacteriaceae['txid562']"
   ]
  },
  {
   "cell_type": "code",
   "execution_count": 7,
   "metadata": {},
   "outputs": [
    {
     "data": {
      "text/plain": [
       "dict_values(['Escherichia coli', 'Citrobacter cronae', 'Yokenella regensburgei', 'Klebsiella aerogenes'])"
      ]
     },
     "execution_count": 7,
     "metadata": {},
     "output_type": "execute_result"
    }
   ],
   "source": [
    "enterobacteriaceae.values()"
   ]
  },
  {
   "cell_type": "code",
   "execution_count": 8,
   "metadata": {},
   "outputs": [
    {
     "data": {
      "text/plain": [
       "dict_keys(['txid562', 'txid1748967', 'txid158877', 'txid548'])"
      ]
     },
     "execution_count": 8,
     "metadata": {},
     "output_type": "execute_result"
    }
   ],
   "source": [
    "enterobacteriaceae.keys()"
   ]
  },
  {
   "cell_type": "markdown",
   "metadata": {},
   "source": [
    "Para agregar un nuevo par:"
   ]
  },
  {
   "cell_type": "code",
   "execution_count": 9,
   "metadata": {},
   "outputs": [],
   "source": [
    "enterobacteriaceae.update( {'txid1423': 'Bacillus subitilis'} )"
   ]
  },
  {
   "cell_type": "code",
   "execution_count": 10,
   "metadata": {},
   "outputs": [
    {
     "data": {
      "text/plain": [
       "dict_values(['Escherichia coli', 'Citrobacter cronae', 'Yokenella regensburgei', 'Klebsiella aerogenes', 'Bacillus subitilis'])"
      ]
     },
     "execution_count": 10,
     "metadata": {},
     "output_type": "execute_result"
    }
   ],
   "source": [
    "enterobacteriaceae.values()"
   ]
  },
  {
   "cell_type": "markdown",
   "metadata": {},
   "source": [
    "¡*Bacillus subtilis* no pertenece a la familia enterobacteriaceae!"
   ]
  },
  {
   "cell_type": "code",
   "execution_count": 11,
   "metadata": {},
   "outputs": [
    {
     "name": "stdout",
     "output_type": "stream",
     "text": [
      "Citrobacter cronae\n"
     ]
    }
   ],
   "source": [
    "variable1 = enterobacteriaceae.pop('txid1748967')\n",
    "print(variable1)"
   ]
  },
  {
   "cell_type": "code",
   "execution_count": 12,
   "metadata": {},
   "outputs": [
    {
     "data": {
      "text/plain": [
       "dict_values(['Escherichia coli', 'Yokenella regensburgei', 'Klebsiella aerogenes', 'Bacillus subitilis'])"
      ]
     },
     "execution_count": 12,
     "metadata": {},
     "output_type": "execute_result"
    }
   ],
   "source": [
    "enterobacteriaceae.values()"
   ]
  },
  {
   "cell_type": "markdown",
   "metadata": {},
   "source": [
    "Para recuperar un elemento en particular se puede usar *get()* y también *pop()*. La diferencia es que *get()* no remueve el elemento de la lista:"
   ]
  },
  {
   "cell_type": "code",
   "execution_count": 13,
   "metadata": {},
   "outputs": [
    {
     "data": {
      "text/plain": [
       "4"
      ]
     },
     "execution_count": 13,
     "metadata": {},
     "output_type": "execute_result"
    }
   ],
   "source": [
    "len(enterobacteriaceae)"
   ]
  },
  {
   "cell_type": "code",
   "execution_count": 14,
   "metadata": {},
   "outputs": [],
   "source": [
    "una_bacteria = enterobacteriaceae.get(\"txid562\")"
   ]
  },
  {
   "cell_type": "code",
   "execution_count": 15,
   "metadata": {},
   "outputs": [
    {
     "name": "stdout",
     "output_type": "stream",
     "text": [
      "Escherichia coli\n"
     ]
    }
   ],
   "source": [
    "print(una_bacteria)"
   ]
  },
  {
   "cell_type": "code",
   "execution_count": 16,
   "metadata": {},
   "outputs": [
    {
     "data": {
      "text/plain": [
       "4"
      ]
     },
     "execution_count": 16,
     "metadata": {},
     "output_type": "execute_result"
    }
   ],
   "source": [
    "len(enterobacteriaceae)"
   ]
  },
  {
   "cell_type": "code",
   "execution_count": 17,
   "metadata": {},
   "outputs": [],
   "source": [
    "otra_bacteria = enterobacteriaceae.pop(\"txid562\")"
   ]
  },
  {
   "cell_type": "code",
   "execution_count": 18,
   "metadata": {},
   "outputs": [
    {
     "data": {
      "text/plain": [
       "'Escherichia coli'"
      ]
     },
     "execution_count": 18,
     "metadata": {},
     "output_type": "execute_result"
    }
   ],
   "source": [
    "otra_bacteria"
   ]
  },
  {
   "cell_type": "code",
   "execution_count": 19,
   "metadata": {},
   "outputs": [
    {
     "data": {
      "text/plain": [
       "3"
      ]
     },
     "execution_count": 19,
     "metadata": {},
     "output_type": "execute_result"
    }
   ],
   "source": [
    "len(enterobacteriaceae)"
   ]
  },
  {
   "cell_type": "markdown",
   "metadata": {},
   "source": [
    "## Operadores relacionales y operadores lógicos"
   ]
  },
  {
   "cell_type": "markdown",
   "metadata": {},
   "source": [
    "En la construcción de programas siempre surge la necesidad de determinar si una condición se cumple o no. Supongamos que tenemos una lista de transcriptos de un experimento de RNASeq y queremos extraer aquellos que con expresión diferencial. En este caso vamos a determinar para cada transcripto si tiene o no, por ejemplo, un P ajustado menor a 0.05. Si el valor es menor lo guardamos en un tabla separada, si no, seguimos adelante.\n",
    "\n",
    "Los lenguajes de programación incluyen operadores relacionales para determinar condiciones como las del párrafo anterior. En el caso de comparaciones numéricas estos son:\n",
    "\n",
    "* == &nbsp; &nbsp; &nbsp; igual\n",
    "* != &nbsp; &nbsp; &nbsp; diferente\n",
    "* \\> &nbsp; &nbsp; &nbsp; &nbsp; mayor\n",
    "* \\>= &nbsp; &nbsp; &nbsp; mayor o igual\n",
    "* < &nbsp; &nbsp; &nbsp; &nbsp; menor\n",
    "* <= &nbsp; &nbsp; &nbsp; menor o igual\n",
    "\n",
    "Y van a devolver valores *True* o *False* de acuerdo al resultado de la evaluación. Veamos un ejemplo muy sencillo relacionado con los transcriptos con expresión diferencial de más arriba:"
   ]
  },
  {
   "cell_type": "code",
   "execution_count": 20,
   "metadata": {},
   "outputs": [
    {
     "data": {
      "text/plain": [
       "True"
      ]
     },
     "execution_count": 20,
     "metadata": {},
     "output_type": "execute_result"
    }
   ],
   "source": [
    "p_ajustado_transc_1 = 0.0002\n",
    "p_ajustado_transc_2 = 0.2\n",
    "\n",
    "p_critico = 0.05\n",
    "\n",
    "p_ajustado_transc_1 < p_critico"
   ]
  },
  {
   "cell_type": "code",
   "execution_count": 21,
   "metadata": {},
   "outputs": [
    {
     "data": {
      "text/plain": [
       "False"
      ]
     },
     "execution_count": 21,
     "metadata": {},
     "output_type": "execute_result"
    }
   ],
   "source": [
    "p_ajustado_transc_2 < p_critico"
   ]
  },
  {
   "cell_type": "markdown",
   "metadata": {},
   "source": [
    "Una aclaración, en un caso real de datos de RNAseq, tendríamos una estructura de datos donde almacenar todos los transcriptos y sus datos asociados."
   ]
  },
  {
   "cell_type": "markdown",
   "metadata": {},
   "source": [
    "A veces es necesario evaluar dos condiciones al mismo tiempo y determinar si ambas condiciones son ciertas o si al menos una lo es. Para esto tenemos los operadores lógicos:\n",
    "\n",
    "* and\n",
    "* or\n",
    "* not\n",
    "\n",
    "Es fácil entender cómo funcona mirando y modificando ejemplos."
   ]
  },
  {
   "cell_type": "code",
   "execution_count": 22,
   "metadata": {},
   "outputs": [
    {
     "data": {
      "text/plain": [
       "True"
      ]
     },
     "execution_count": 22,
     "metadata": {},
     "output_type": "execute_result"
    }
   ],
   "source": [
    "a = 10\n",
    "b = 2\n",
    "c = 5\n",
    "\n",
    "a > c and b <= a"
   ]
  },
  {
   "cell_type": "code",
   "execution_count": 23,
   "metadata": {},
   "outputs": [
    {
     "data": {
      "text/plain": [
       "True"
      ]
     },
     "execution_count": 23,
     "metadata": {},
     "output_type": "execute_result"
    }
   ],
   "source": [
    "a > c or b > 3"
   ]
  },
  {
   "cell_type": "code",
   "execution_count": 24,
   "metadata": {},
   "outputs": [
    {
     "data": {
      "text/plain": [
       "False"
      ]
     },
     "execution_count": 24,
     "metadata": {},
     "output_type": "execute_result"
    }
   ],
   "source": [
    "a > c and b > 3"
   ]
  },
  {
   "cell_type": "code",
   "execution_count": 25,
   "metadata": {},
   "outputs": [
    {
     "data": {
      "text/plain": [
       "False"
      ]
     },
     "execution_count": 25,
     "metadata": {},
     "output_type": "execute_result"
    }
   ],
   "source": [
    "not a > c"
   ]
  },
  {
   "cell_type": "markdown",
   "metadata": {},
   "source": [
    "Para mayor claridad o para condiciones complejas se pueden encerrar entre paréntesis.\n",
    "\n",
    "La palabra clave *not* niega una condición. En el código anterior a es mayor que c, y si solo preguntáramos esto, la condición sería verdadera, pero al anteponer *not* lo negamos, invertimos su valor. Estos dos ejemplos pueden aclarar un poco más:"
   ]
  },
  {
   "cell_type": "code",
   "execution_count": 26,
   "metadata": {},
   "outputs": [
    {
     "data": {
      "text/plain": [
       "False"
      ]
     },
     "execution_count": 26,
     "metadata": {},
     "output_type": "execute_result"
    }
   ],
   "source": [
    "not True"
   ]
  },
  {
   "cell_type": "code",
   "execution_count": 27,
   "metadata": {},
   "outputs": [
    {
     "data": {
      "text/plain": [
       "True"
      ]
     },
     "execution_count": 27,
     "metadata": {},
     "output_type": "execute_result"
    }
   ],
   "source": [
    "not False"
   ]
  },
  {
   "cell_type": "markdown",
   "metadata": {},
   "source": [
    "## Sentencias condicionales"
   ]
  },
  {
   "cell_type": "markdown",
   "metadata": {},
   "source": [
    "La ejecución de un programa casi nunca es absolutamente lineal. En uno o más pasos es necesaro determinar si se cumple o no una condición para decidir cómo continúa el programa.\n",
    "\n",
    "Supongamos que tenemos un diccionario con nueve nombres de genes de *Saccharomyces cerevisiae* y como valor el largo en nucleótidos de esos genes. Necesitamos extraer los nombres de los genes con un largo igual o menor de 200 nucleótidos."
   ]
  },
  {
   "cell_type": "code",
   "execution_count": 28,
   "metadata": {},
   "outputs": [],
   "source": [
    "genes_dict_1 = {\n",
    "    'TMC1': 453,\n",
    "    'TUM1': 915,\n",
    "    'TOM6': 186,\n",
    "    'TLG2': 1194,\n",
    "    'TSR4': 1227,\n",
    "    'TPO4': 1980,\n",
    "    'TSR3': 942,\n",
    "    'TRM10': 882,\n",
    "    'TRM11': 1302\n",
    "}"
   ]
  },
  {
   "cell_type": "markdown",
   "metadata": {},
   "source": [
    "Primero necesitamos saber cómo iterar un diccionario, en Python es mu sencillo:"
   ]
  },
  {
   "cell_type": "code",
   "execution_count": 29,
   "metadata": {},
   "outputs": [
    {
     "name": "stdout",
     "output_type": "stream",
     "text": [
      "TMC1 453\n",
      "TUM1 915\n",
      "TOM6 186\n",
      "TLG2 1194\n",
      "TSR4 1227\n",
      "TPO4 1980\n",
      "TSR3 942\n",
      "TRM10 882\n",
      "TRM11 1302\n"
     ]
    }
   ],
   "source": [
    "for key in genes_dict_1:\n",
    "    print(key, genes_dict_1[key])"
   ]
  },
  {
   "cell_type": "markdown",
   "metadata": {},
   "source": [
    "Ahora necesitamos que para cada gen con un largo de secuencia menor o igual de 200 imprima el nombre del gen:"
   ]
  },
  {
   "cell_type": "code",
   "execution_count": 30,
   "metadata": {},
   "outputs": [
    {
     "name": "stdout",
     "output_type": "stream",
     "text": [
      "TOM6 186\n"
     ]
    }
   ],
   "source": [
    "for key in genes_dict_1:\n",
    "    if  genes_dict_1[key] <= 200:\n",
    "        print(key, genes_dict_1[key])"
   ]
  },
  {
   "cell_type": "markdown",
   "metadata": {},
   "source": [
    "La sentencia *if* nos sirvió para agregar código que se ejecuta en formal condicional a que el gen tenga un alongitud menor de 200 nucleótidos.\n",
    "\n",
    "Presten atrención: la línea de código donde va el *if* termina con dos puntos, y el código que se va a ejecutar si se cumple la condición va indentando.\n",
    "\n",
    "Supongamos ahora que queremos extraer los genes de largo intemedio, entre 600 y 1200 nucléotidos:"
   ]
  },
  {
   "cell_type": "code",
   "execution_count": 31,
   "metadata": {},
   "outputs": [
    {
     "name": "stdout",
     "output_type": "stream",
     "text": [
      "TUM1\n",
      "TLG2\n",
      "TSR3\n",
      "TRM10\n"
     ]
    }
   ],
   "source": [
    "for key in genes_dict_1:\n",
    "    if  genes_dict_1[key] >= 600 and genes_dict_1[key] <= 1200:\n",
    "        print(key)"
   ]
  },
  {
   "cell_type": "markdown",
   "metadata": {},
   "source": [
    "¡Espectacular!\n",
    "\n",
    "Y ahora supongamos que queremos encontrar los genes más cortos y más largos, imprimiendo una etiqueta que nos avise si es de uno u otro tipo:"
   ]
  },
  {
   "cell_type": "code",
   "execution_count": 32,
   "metadata": {},
   "outputs": [
    {
     "name": "stdout",
     "output_type": "stream",
     "text": [
      "gen corto: TMC1, (longitud = 453)\n",
      "gen corto: TOM6, (longitud = 186)\n",
      "gen largo: TSR4, (longitud = 1227)\n",
      "gen largo: TPO4, (longitud = 1980)\n",
      "gen largo: TRM11, (longitud = 1302)\n"
     ]
    }
   ],
   "source": [
    "for key in genes_dict_1:\n",
    "    if  genes_dict_1[key] < 600:\n",
    "        print(\"gen corto: \" + key + \", (longitud = \" + str(genes_dict_1[key]) + \")\")\n",
    "    elif genes_dict_1[key] > 1200:\n",
    "        print(\"gen largo: \" + key + \", (longitud = \" + str(genes_dict_1[key]) + \")\")"
   ]
  },
  {
   "cell_type": "markdown",
   "metadata": {},
   "source": [
    "*elif* es la abreviatura de \"else if\". Esto es, si el primer condicional no es verdadero, se evalúa el segundo.\n",
    "\n",
    "Finalmente, podemos agregar algo más para asegurarnos que todos los genes fueron evaluados:"
   ]
  },
  {
   "cell_type": "code",
   "execution_count": 33,
   "metadata": {},
   "outputs": [
    {
     "name": "stdout",
     "output_type": "stream",
     "text": [
      "gen corto: TMC1, (longitud = 453)\n",
      "TUM1, (largo normal)\n",
      "gen corto: TOM6, (longitud = 186)\n",
      "TLG2, (largo normal)\n",
      "gen largo: TSR4, (longitud = 1227)\n",
      "gen largo: TPO4, (longitud = 1980)\n",
      "TSR3, (largo normal)\n",
      "TRM10, (largo normal)\n",
      "gen largo: TRM11, (longitud = 1302)\n"
     ]
    }
   ],
   "source": [
    "for key in genes_dict_1:\n",
    "    if  genes_dict_1[key] < 600:\n",
    "        print(\"gen corto: \" + key + \", (longitud = \" + str(genes_dict_1[key]) + \")\")\n",
    "    elif genes_dict_1[key] > 1200:\n",
    "        print(\"gen largo: \" + key + \", (longitud = \" + str(genes_dict_1[key]) + \")\")\n",
    "    else:\n",
    "        print(key + \", (largo normal)\")"
   ]
  },
  {
   "cell_type": "markdown",
   "metadata": {},
   "source": [
    "## Repaso\n",
    "\n",
    "Al llegar aquí deberías entender estos puntos:\n",
    "\n",
    "* Qué es un diccionario\n",
    "* Cuáles son y para qué sirven los operadores relacionales y los operadores lógicos\n",
    "* Cómo se usan las sentencias condicionales para modificar el flujo de un programa"
   ]
  },
  {
   "cell_type": "code",
   "execution_count": null,
   "metadata": {},
   "outputs": [],
   "source": []
  }
 ],
 "metadata": {
  "kernelspec": {
   "display_name": "Python 3",
   "language": "python",
   "name": "python3"
  },
  "language_info": {
   "codemirror_mode": {
    "name": "ipython",
    "version": 3
   },
   "file_extension": ".py",
   "mimetype": "text/x-python",
   "name": "python",
   "nbconvert_exporter": "python",
   "pygments_lexer": "ipython3",
   "version": "3.8.5"
  }
 },
 "nbformat": 4,
 "nbformat_minor": 4
}
