{
 "cells": [
  {
   "cell_type": "markdown",
   "metadata": {},
   "source": [
    "# Primeros pasos en programación y en Python"
   ]
  },
  {
   "cell_type": "markdown",
   "metadata": {},
   "source": [
    "Hoy en día Python es un lenguaje de programación extremadamente popular y que se usa en una variedad creciente de áreas. En el campo de la bioinformática la combinación R/Bioconductor ofrece una base de recursos muy grandes y especializados que por el momento supera lo que ofrece Python/Biopython. Sin embargo, hay un número creciente de aplicaciones bioinformáticas escritas en Python y la biblioteca Biopython permite hacer operaciones cada vez más sofisticadas con datos bioinformáticos.\n",
    "\n",
    "Una ventaja importante de Python, y una de las causas de su popularidad, es que es un lenguaje poderoso y al mismo tiempo fácil de aprender. Es ideal para quienes se inician en la programación y se convirtió en la opción casi por defecto para aprender a programar. Por eso, en este curso, vamos a aprender primero a programar con Python.\n"
   ]
  },
  {
   "cell_type": "markdown",
   "metadata": {},
   "source": [
    "## ¿Qué esperamos de un lenguaje de programación?"
   ]
  },
  {
   "cell_type": "markdown",
   "metadata": {},
   "source": [
    "Un lenguaje de programación es un medio para interactuar con una computadora, en los casos específicos que nos interesan queremos que una computadora procese datos bioinformáticos para obtener alguna información nueva. \n",
    "\n",
    "Ahora bien, una planilla de cálculo también sirve para procesar datos y las más conocidas, Excel, LibreOffice, también se pueden programar ¿Cuál es la diferencia? La respuesta se pude resumir en dos palabras, flexibilidad y generalidad. \n",
    "\n",
    "Un lenguaje de programación de alto nivel, como Python o R, nos permite trabajar con cualquier tipo de datos que nos podamos encontrar y definir casi cualquier tipo de operación que necesitemos hacer con ellos. Para marcar el contraste, sería muy dificil usar una planilla de cálculo para almacenar un conjunto de secuencias de DNA y desde la misma planilla hacer un Blast contra Genbank, descargar los resultados y filtrarlos. Con un lenguaje de progrmación de uso general y las bibliotecas auxiliares apropiadas, es una tarea que se puede describir en pocas lineas de código.\n",
    "\n",
    "La contrapartida es que programar requiere seguir unas reglas estrictas, no es posible por el momento dirigir a una computadora de manera conversacional, y abstracción. Estas dos características son las que hacen que mucha gente encuentre dificultades al aprender a programar. Trabajar con Python facilita el proceso de aprendizaje, y si se avanza de a poco y practicando mucho, no hay mayores dificultades en comprender como se programa, y descubrir que es una actividad muy estimulante."
   ]
  },
  {
   "cell_type": "markdown",
   "metadata": {},
   "source": [
    "## Los componentes de un lenguaje de programación"
   ]
  },
  {
   "cell_type": "markdown",
   "metadata": {},
   "source": [
    "Un programa de computación es una serie de pasos donde describimos cuáles son los datos que queremos procesar, cuáles son los pasos que requiere el resultado que queremos lograr, definir si esa secuencia de pasos se puede modificar, cuántas veces queremos repetir algún paso y qué queremos hacer con los resultados. Casi todos los lenguajes de programación de alto nivel, y definitivamente Python y R, tienen los siguientes componentes para lograr esto:\n",
    "\n",
    "* **Estructuras de datos**: tipos de datos que se pueden utilizar. Algunos son sencillos, como un número entero, y otros complejos, como puede ser conjunto de dayos formado por mi nombre, DNI, fecha de nacimiento y dirección.\n",
    "* **Estructuras de control de flujo**: la secuencia de pasos no siempre es lineal. Por ejemplo, puedo un proceso puede variar de acuerdo a si tengo un archivo FASTA o un registro GBK.\n",
    "* **Estructuras de iteración**: iterar es repetir. Muchas veces lo que tenemos que hacer con los datos es sencillo, pero hace falta repetirlo muchas veces.\n",
    "* **Funciones**: sirven para encapsular código y dejarlo disponible para volver a usarlo, y no tener que escribir ese paso cada vez que uno lo vuelve a necesitar.\n",
    "* **Formas de \"comunicarse\" con el exterior**: Casi cualquier programa va a necesitar leer o escribir archivos, mostrarnos resultados por la pantalla o en algunos casos conectarse a una base de remota\n",
    "* **Bibliotecas**: no es una parte esencial de un lenguaje, pero son indispensables. Son repositorios de funciones y a veces también datos que nos evitan tener que escribir un programa para cada tarea. Biopython es una biblioteca grande y Bioconductor es un proyecto que suma más de 1000 bibliotecas para diferentes usos."
   ]
  },
  {
   "cell_type": "markdown",
   "metadata": {},
   "source": [
    "## Nos ponemos a trabajar: primeros comandos y tipos de datos básicos en Python"
   ]
  },
  {
   "cell_type": "markdown",
   "metadata": {},
   "source": [
    "### Observen los siguientes comando, corranlos, cambiénlos y corranlos de nuevo"
   ]
  },
  {
   "cell_type": "code",
   "execution_count": 1,
   "metadata": {},
   "outputs": [
    {
     "data": {
      "text/plain": [
       "4"
      ]
     },
     "execution_count": 1,
     "metadata": {},
     "output_type": "execute_result"
    }
   ],
   "source": [
    "2+2"
   ]
  },
  {
   "cell_type": "code",
   "execution_count": 2,
   "metadata": {},
   "outputs": [
    {
     "data": {
      "text/plain": [
       "9"
      ]
     },
     "execution_count": 2,
     "metadata": {},
     "output_type": "execute_result"
    }
   ],
   "source": [
    "3*3"
   ]
  },
  {
   "cell_type": "code",
   "execution_count": 3,
   "metadata": {},
   "outputs": [
    {
     "data": {
      "text/plain": [
       "25"
      ]
     },
     "execution_count": 3,
     "metadata": {},
     "output_type": "execute_result"
    }
   ],
   "source": [
    "5**2"
   ]
  },
  {
   "cell_type": "code",
   "execution_count": 4,
   "metadata": {},
   "outputs": [
    {
     "data": {
      "text/plain": [
       "2.5"
      ]
     },
     "execution_count": 4,
     "metadata": {},
     "output_type": "execute_result"
    }
   ],
   "source": [
    "5/2"
   ]
  },
  {
   "cell_type": "code",
   "execution_count": 5,
   "metadata": {},
   "outputs": [
    {
     "data": {
      "text/plain": [
       "2"
      ]
     },
     "execution_count": 5,
     "metadata": {},
     "output_type": "execute_result"
    }
   ],
   "source": [
    "5//2"
   ]
  },
  {
   "cell_type": "code",
   "execution_count": 6,
   "metadata": {},
   "outputs": [
    {
     "data": {
      "text/plain": [
       "1"
      ]
     },
     "execution_count": 6,
     "metadata": {},
     "output_type": "execute_result"
    }
   ],
   "source": [
    "# EL resto o residuo de la división entero\n",
    "5 % 2"
   ]
  },
  {
   "cell_type": "code",
   "execution_count": 7,
   "metadata": {},
   "outputs": [
    {
     "data": {
      "text/plain": [
       "49"
      ]
     },
     "execution_count": 7,
     "metadata": {},
     "output_type": "execute_result"
    }
   ],
   "source": [
    "(2+5) * 7"
   ]
  },
  {
   "cell_type": "markdown",
   "metadata": {},
   "source": [
    "Estos fueron nuestros primeros comandos, y estuvimos usando Pyrhon como si fuera una calculadora. Interesante, pero no es algo que nos permita generalizar una operación, para eso podemos usar variables.\n",
    "\n",
    "Pero antes escriban un comando que calcule esta fórmula:\n",
    "\n",
    "\\begin{equation}\n",
    "\\frac{(2+3)^3}{29}\n",
    "\\end{equation}\n",
    "\n",
    "El resultado es 4.31034"
   ]
  },
  {
   "cell_type": "markdown",
   "metadata": {},
   "source": [
    "Y después modifiquenla para que nos devuelva el valor entero del cociente"
   ]
  },
  {
   "cell_type": "markdown",
   "metadata": {},
   "source": [
    "Ahora si, las variables. \n",
    "\n",
    "Una variable nos permite almacenar un valor en un \"contenedor\" y usarla o modificarla cuantas veces sea necesario. Vamos a crear una variable con el mombre \"int1\" y le asignamos el número 12.5:\n"
   ]
  },
  {
   "cell_type": "code",
   "execution_count": 8,
   "metadata": {},
   "outputs": [],
   "source": [
    "int1 = 12.5"
   ]
  },
  {
   "cell_type": "markdown",
   "metadata": {},
   "source": [
    "Ahora podemos usar *int1* para hacer cálculos:"
   ]
  },
  {
   "cell_type": "code",
   "execution_count": 9,
   "metadata": {},
   "outputs": [
    {
     "data": {
      "text/plain": [
       "25.0"
      ]
     },
     "execution_count": 9,
     "metadata": {},
     "output_type": "execute_result"
    }
   ],
   "source": [
    "int1 * 2"
   ]
  },
  {
   "cell_type": "markdown",
   "metadata": {},
   "source": [
    "También podemos modificar el valor de *int1*"
   ]
  },
  {
   "cell_type": "code",
   "execution_count": 10,
   "metadata": {},
   "outputs": [
    {
     "data": {
      "text/plain": [
       "6.8"
      ]
     },
     "execution_count": 10,
     "metadata": {},
     "output_type": "execute_result"
    }
   ],
   "source": [
    "int1 = 3.4\n",
    "int1 * 2"
   ]
  },
  {
   "cell_type": "markdown",
   "metadata": {},
   "source": [
    "Nuestra variable *int1* es una variable de tipo real, o en la terminología de Python, un *float*: un número real de punto flotante:"
   ]
  },
  {
   "cell_type": "code",
   "execution_count": 11,
   "metadata": {},
   "outputs": [
    {
     "data": {
      "text/plain": [
       "float"
      ]
     },
     "execution_count": 11,
     "metadata": {},
     "output_type": "execute_result"
    }
   ],
   "source": [
    "type(int1)"
   ]
  },
  {
   "cell_type": "markdown",
   "metadata": {},
   "source": [
    "En el comando anterior utilizamos por primera vez una función, *type()*. En este caso la función toma como argumento nuestra variable *int1* y nos devuelve su tipo. Veamos que pasa cuando le pasamos a *type()* como argumento un número entero:"
   ]
  },
  {
   "cell_type": "code",
   "execution_count": 12,
   "metadata": {},
   "outputs": [
    {
     "data": {
      "text/plain": [
       "int"
      ]
     },
     "execution_count": 12,
     "metadata": {},
     "output_type": "execute_result"
    }
   ],
   "source": [
    "type(3)"
   ]
  },
  {
   "cell_type": "markdown",
   "metadata": {},
   "source": [
    "Modifiquemos nuestra fórmula anterior para incluir dos variables, *v1* y *v2*:\n",
    "\n",
    "\\begin{equation}\n",
    "\\frac{(2+v1)^3}{v2}\n",
    "\\end{equation}"
   ]
  },
  {
   "cell_type": "code",
   "execution_count": 13,
   "metadata": {},
   "outputs": [],
   "source": [
    "# Ejecutar esto (sin el signo numeral):\n",
    "# ((2+v1)**3)/v2"
   ]
  },
  {
   "cell_type": "markdown",
   "metadata": {},
   "source": [
    "Dio un error ¿No?\n",
    "\n",
    "Está bien. El objetivo inmediato era ver cómo es un mensaje de error. El intérprete de Python nos está avisando que *v1* no está definida. ¿Cómo se soluciona esto? Hace falta ejecutar dos comandos que le asignen valores a *v1* y *v2*:\n"
   ]
  },
  {
   "cell_type": "code",
   "execution_count": 14,
   "metadata": {},
   "outputs": [],
   "source": [
    "v1 = 4\n",
    "v2 = 9\n"
   ]
  },
  {
   "cell_type": "code",
   "execution_count": 15,
   "metadata": {},
   "outputs": [
    {
     "data": {
      "text/plain": [
       "24.0"
      ]
     },
     "execution_count": 15,
     "metadata": {},
     "output_type": "execute_result"
    }
   ],
   "source": [
    "((2+v1)**3)/v2"
   ]
  },
  {
   "cell_type": "markdown",
   "metadata": {},
   "source": [
    "¡Ahora si funcionó!"
   ]
  },
  {
   "cell_type": "markdown",
   "metadata": {},
   "source": [
    "Anteriormente habíamos usado Python como una calculadora, y vimos como calcular una potenciación, pero no una raíz. Esto es porque para calcular una raíz necesitamos una función, y todavía no habíamos visto ninguna, pero además, la función para calcular raíces cuadradas no forma parte del intérprete de Python, hay que cargar antes una biblioteca para hacr eso y que se llama *math*. Probemoslo:"
   ]
  },
  {
   "cell_type": "code",
   "execution_count": 16,
   "metadata": {},
   "outputs": [
    {
     "data": {
      "text/plain": [
       "1.7320508075688772"
      ]
     },
     "execution_count": 16,
     "metadata": {},
     "output_type": "execute_result"
    }
   ],
   "source": [
    "import math\n",
    "math.sqrt(3)"
   ]
  },
  {
   "cell_type": "markdown",
   "metadata": {},
   "source": [
    "Con las operaciones matemáticas básicas podríamos haber hecho esto:"
   ]
  },
  {
   "cell_type": "code",
   "execution_count": 17,
   "metadata": {},
   "outputs": [
    {
     "data": {
      "text/plain": [
       "1.7320508075688772"
      ]
     },
     "execution_count": 17,
     "metadata": {},
     "output_type": "execute_result"
    }
   ],
   "source": [
    "3 ** (1/2)"
   ]
  },
  {
   "cell_type": "markdown",
   "metadata": {},
   "source": [
    "Pero no es tan cómodo o intuitivo"
   ]
  },
  {
   "cell_type": "markdown",
   "metadata": {},
   "source": [
    "¿Y para calcular una raíz cúbica?"
   ]
  },
  {
   "cell_type": "code",
   "execution_count": 18,
   "metadata": {},
   "outputs": [
    {
     "data": {
      "text/plain": [
       "3.0"
      ]
     },
     "execution_count": 18,
     "metadata": {},
     "output_type": "execute_result"
    }
   ],
   "source": [
    "27 ** (1/3)"
   ]
  },
  {
   "cell_type": "code",
   "execution_count": 19,
   "metadata": {},
   "outputs": [
    {
     "data": {
      "text/plain": [
       "3.0"
      ]
     },
     "execution_count": 19,
     "metadata": {},
     "output_type": "execute_result"
    }
   ],
   "source": [
    "math.pow(27, 1/3)"
   ]
  },
  {
   "cell_type": "markdown",
   "metadata": {},
   "source": [
    "La función *pow* de la biblioteca *math* sirve para calcular cualqier tipo de potenciaciones, incluyendo raíces."
   ]
  },
  {
   "cell_type": "markdown",
   "metadata": {},
   "source": [
    "### El tipo de dato \"string\""
   ]
  },
  {
   "cell_type": "markdown",
   "metadata": {},
   "source": [
    "Casi en cualquier programa que se nos ocurra en algún momento es necesario trabajar con texto. El tipo básico de datos que tiene Python para trabajar con texto son los *strings*.\n",
    "\n",
    "Al igual que los tipos numéricos son muy sencillos de crear:"
   ]
  },
  {
   "cell_type": "code",
   "execution_count": 20,
   "metadata": {},
   "outputs": [],
   "source": [
    "text1 = 'esta es una cadena de caracteres'"
   ]
  },
  {
   "cell_type": "code",
   "execution_count": 21,
   "metadata": {},
   "outputs": [
    {
     "data": {
      "text/plain": [
       "'esta es una cadena de caracteres'"
      ]
     },
     "execution_count": 21,
     "metadata": {},
     "output_type": "execute_result"
    }
   ],
   "source": [
    "text1"
   ]
  },
  {
   "cell_type": "code",
   "execution_count": 22,
   "metadata": {},
   "outputs": [
    {
     "data": {
      "text/plain": [
       "str"
      ]
     },
     "execution_count": 22,
     "metadata": {},
     "output_type": "execute_result"
    }
   ],
   "source": [
    "type(text1)"
   ]
  },
  {
   "cell_type": "markdown",
   "metadata": {},
   "source": [
    "Una operación que se puede hacer con un string es concatenarlo con otro usando \"+\":"
   ]
  },
  {
   "cell_type": "code",
   "execution_count": 23,
   "metadata": {},
   "outputs": [
    {
     "data": {
      "text/plain": [
       "'esta es una cadena de caracteres, es decir, un tipo string'"
      ]
     },
     "execution_count": 23,
     "metadata": {},
     "output_type": "execute_result"
    }
   ],
   "source": [
    "text1 + \", es decir, un tipo string\""
   ]
  },
  {
   "cell_type": "markdown",
   "metadata": {},
   "source": [
    "Aqui ocurre algo interesante, el símbolo \"+\" produce diferentes efectos dependiendo del tipo del dato o datos a los que se aplica. Esta es una de las razones, no la única, de porque es importante para un lenguaje de programación definir claramente diferentes tipos de datos.\n",
    "\n",
    "¿Qué pasa si concatenamos un string y una variable numérica? Por ejemplo,  v1 + text1.\n",
    "\n",
    "Da error. Pero esto sí funciona:"
   ]
  },
  {
   "cell_type": "code",
   "execution_count": 24,
   "metadata": {},
   "outputs": [
    {
     "data": {
      "text/plain": [
       "'4 esta es una cadena de caracteres'"
      ]
     },
     "execution_count": 24,
     "metadata": {},
     "output_type": "execute_result"
    }
   ],
   "source": [
    "str(v1) + \" \" + text1"
   ]
  },
  {
   "cell_type": "markdown",
   "metadata": {},
   "source": [
    "¿Qué hace la función *str()*?\n",
    "\n",
    "Pueden buscar en internet, o más fácil, usar la ayuda de Python: *help(str)*"
   ]
  },
  {
   "cell_type": "markdown",
   "metadata": {},
   "source": [
    "Una función interesante, y que se usa mucho con strings es *len()*:"
   ]
  },
  {
   "cell_type": "code",
   "execution_count": 25,
   "metadata": {},
   "outputs": [
    {
     "data": {
      "text/plain": [
       "32"
      ]
     },
     "execution_count": 25,
     "metadata": {},
     "output_type": "execute_result"
    }
   ],
   "source": [
    "len(text1)"
   ]
  },
  {
   "cell_type": "markdown",
   "metadata": {},
   "source": [
    "¿Qué hace *len()?"
   ]
  },
  {
   "cell_type": "markdown",
   "metadata": {},
   "source": [
    "Hay muchas otras operaciones disponibles para hacer con strings. Por ejemplo, pasemos todas sus letras a mayúsculas:"
   ]
  },
  {
   "cell_type": "code",
   "execution_count": 26,
   "metadata": {},
   "outputs": [
    {
     "data": {
      "text/plain": [
       "'ESTA ES UNA CADENA DE CARACTERES'"
      ]
     },
     "execution_count": 26,
     "metadata": {},
     "output_type": "execute_result"
    }
   ],
   "source": [
    "text1.upper()"
   ]
  },
  {
   "cell_type": "markdown",
   "metadata": {},
   "source": [
    "Pero acá hay algo raro ¿No? Hasta ahora veníamos usando funciones del tipo *nombre_función(variable)*. \n",
    "\n",
    "Vamos a volver sobre este tipo de llamadas muchas veces en el curso, pero aprovechemos para tener una primera aproximación. Internamente Python está considerando a *text1* como un **objeto**. Este es un concepto muy importante en computación, no solo para Python-. La idea es que *text1* es un objeto de la **clase** String. Al crear una clase, entre otras cosas, se puede definir un tipo de dato y una serie de operaciones válidas sobre esos datos, que en este caso en lugar de llamarse funciones, se llaman **métodos**.\n",
    "\n",
    "Entonces, *upper()* es un método de la clase String que sirve para convertir a un objeto de esa clase, en nuestro caso *text1*, a mayúsculas.\n",
    "\n",
    "¿Qué pasaría si intentáramos llamar a *upper* como si fuera una función:\n",
    "\n",
    "upper(text1)"
   ]
  },
  {
   "cell_type": "markdown",
   "metadata": {},
   "source": [
    "Error.\n",
    "\n",
    "¿Hay otros métodos disponibles para un string? Si, unos cuantos. Pueden ver el detalle en la ayuda de Python, o si están siguiendo esta guía desde el notebook Jupyter o desde un IDE, escribiendo \"text1.\" y luego presionando la tecla \"tab\".\n",
    "\n",
    "Acá van algunos ejemplos:"
   ]
  },
  {
   "cell_type": "code",
   "execution_count": 27,
   "metadata": {},
   "outputs": [
    {
     "data": {
      "text/plain": [
       "'esta es una cadena de caracteres'"
      ]
     },
     "execution_count": 27,
     "metadata": {},
     "output_type": "execute_result"
    }
   ],
   "source": [
    "text1.lower()"
   ]
  },
  {
   "cell_type": "code",
   "execution_count": 28,
   "metadata": {},
   "outputs": [
    {
     "data": {
      "text/plain": [
       "'esta es una Cadena de CaraCteres'"
      ]
     },
     "execution_count": 28,
     "metadata": {},
     "output_type": "execute_result"
    }
   ],
   "source": [
    "text1.replace('c', 'C')"
   ]
  },
  {
   "cell_type": "code",
   "execution_count": 29,
   "metadata": {},
   "outputs": [
    {
     "data": {
      "text/plain": [
       "14"
      ]
     },
     "execution_count": 29,
     "metadata": {},
     "output_type": "execute_result"
    }
   ],
   "source": [
    "text1.find(\"de\")"
   ]
  },
  {
   "cell_type": "markdown",
   "metadata": {},
   "source": [
    "¿Qué hizo *find()*?"
   ]
  },
  {
   "cell_type": "code",
   "execution_count": 30,
   "metadata": {},
   "outputs": [
    {
     "data": {
      "text/plain": [
       "True"
      ]
     },
     "execution_count": 30,
     "metadata": {},
     "output_type": "execute_result"
    }
   ],
   "source": [
    "text1.startswith(\"e\")"
   ]
  },
  {
   "cell_type": "markdown",
   "metadata": {},
   "source": [
    "En el ejemplo anterior es interesante ver lo que devuelve el método. Estamos preguntando si *text1* empieza con \"e\" y *startswith* devuelve True.\n",
    "\n",
    "True es un tipo de dato en Python ¿Cuál?"
   ]
  },
  {
   "cell_type": "code",
   "execution_count": 31,
   "metadata": {},
   "outputs": [
    {
     "data": {
      "text/plain": [
       "bool"
      ]
     },
     "execution_count": 31,
     "metadata": {},
     "output_type": "execute_result"
    }
   ],
   "source": [
    "type(True)"
   ]
  },
  {
   "cell_type": "markdown",
   "metadata": {},
   "source": [
    "Es un tipo de dato lógico o booleano, por eso la respuesta 'bool'. El otro valor posible que puede tomar un dato booleano es False:\n"
   ]
  },
  {
   "cell_type": "code",
   "execution_count": 32,
   "metadata": {},
   "outputs": [
    {
     "data": {
      "text/plain": [
       "bool"
      ]
     },
     "execution_count": 32,
     "metadata": {},
     "output_type": "execute_result"
    }
   ],
   "source": [
    "type(False)"
   ]
  },
  {
   "cell_type": "markdown",
   "metadata": {},
   "source": [
    "Ejecutar y prestar atención a lo que pasa en estos casos:\n",
    "\n",
    "type(true)\n",
    "\n",
    "type('True')"
   ]
  },
  {
   "cell_type": "markdown",
   "metadata": {},
   "source": [
    "## Repaso\n",
    "\n",
    "Al llegar aquí deberías entender estos puntos:\n",
    "\n",
    "* Cómo ejecutar operaciones matemáticas básicas en Python\n",
    "* Conocer algunos tipos de datos básicos: números enteros (*int*), números reales (*float*), cadenas de carácteres (*str*) y lógicos o booleanos (*bool*)\n",
    "* Qué es una función\n",
    "* Que los datos en Python se pueden comportar como objetos (sin profundizar mucho más por ahora) y que la clase del objeto determina qué métodos tiene disponibles\n",
    "\n",
    "## ¡¡ Muy importante !!\n",
    "\n",
    "Sólo leer esta guía no sirve para aprender. Hay que correr los ejercicios en Python y probar variantes, las que se les ocurran. Y si al probar variantes salen errores, mejor. Se aprende muchísimo al entender qué causó un error y tratando de entender los mensajes de error del interprete. \n"
   ]
  },
  {
   "cell_type": "code",
   "execution_count": null,
   "metadata": {},
   "outputs": [],
   "source": []
  }
 ],
 "metadata": {
  "kernelspec": {
   "display_name": "Python 3",
   "language": "python",
   "name": "python3"
  },
  "language_info": {
   "codemirror_mode": {
    "name": "ipython",
    "version": 3
   },
   "file_extension": ".py",
   "mimetype": "text/x-python",
   "name": "python",
   "nbconvert_exporter": "python",
   "pygments_lexer": "ipython3",
   "version": "3.8.5"
  }
 },
 "nbformat": 4,
 "nbformat_minor": 4
}
