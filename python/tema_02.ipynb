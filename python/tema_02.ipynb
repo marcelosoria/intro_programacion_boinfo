{
 "cells": [
  {
   "cell_type": "markdown",
   "metadata": {},
   "source": [
    "## Construcción de funciones, más estructuras de datos e iteradores"
   ]
  },
  {
   "cell_type": "markdown",
   "metadata": {},
   "source": [
    "En la clase anterior habíamos trabajado sobre esta fórmula:\n",
    "\n",
    "\\begin{equation}\n",
    "\\frac{(2+v1)^3}{v2}\n",
    "\\end{equation}\n",
    "\n",
    "Supongamos que esta fórmula hace algún cálculo que vamos a precisar muchas veces. Como habíamos comentado una de las ventajas de programar es que podemos generalizar tareas y prepararlas para reutilizarlas. Es el momento de transformar nuestra fórmula en una función:"
   ]
  },
  {
   "cell_type": "code",
   "execution_count": 1,
   "metadata": {},
   "outputs": [],
   "source": [
    "def mi_funcion_1(v1, v2):\n",
    "    \"una función para calcular nuestra primera fórmula\"\n",
    "    resultado = ((2+v1)**3)/v2\n",
    "    return(resultado)\n",
    "    "
   ]
  },
  {
   "cell_type": "markdown",
   "metadata": {},
   "source": [
    "Revisemos en detalle lo que hicimos:\n",
    "\n",
    "* La palabra clave *def* indica que lo que sigue es la definición de una función\n",
    "* La linea que sigue está indentada a la derecha. Esto no es simplemente prolijidad, es esencial para que el interprete de Python entienda cuál es el contenido de la función.\n",
    "* Esta segunda línea describe lo que hace la función, es importante para documentar.\n",
    "* \"mi_funcion_1* es el nombre con el que vamos a llamar a la función desde otras partes de código.\n",
    "* *v1* y *v2* son los parámetros de la función. Son los valores con los que quiero calcular mi fórmula.\n",
    "* Le asignamos a la variable *resultado* el valor calculado con la fórmula.\n",
    "* Con *return()* indicamos que la salida de nuestra función es el valor que quedó guardado en *resultado*."
   ]
  },
  {
   "cell_type": "code",
   "execution_count": 2,
   "metadata": {},
   "outputs": [
    {
     "data": {
      "text/plain": [
       "31.25"
      ]
     },
     "execution_count": 2,
     "metadata": {},
     "output_type": "execute_result"
    }
   ],
   "source": [
    "mi_funcion_1(3,4)"
   ]
  },
  {
   "cell_type": "markdown",
   "metadata": {},
   "source": [
    "Podemos guardar el resultado en otra variable:"
   ]
  },
  {
   "cell_type": "code",
   "execution_count": 3,
   "metadata": {},
   "outputs": [
    {
     "data": {
      "text/plain": [
       "31.25"
      ]
     },
     "execution_count": 3,
     "metadata": {},
     "output_type": "execute_result"
    }
   ],
   "source": [
    "calculo_1 = mi_funcion_1(3,4)\n",
    "calculo_1"
   ]
  },
  {
   "cell_type": "markdown",
   "metadata": {},
   "source": [
    "Y hasta podemos llamar a la ayuda de Python pasando como argumento el nombre de la función:"
   ]
  },
  {
   "cell_type": "code",
   "execution_count": 4,
   "metadata": {},
   "outputs": [
    {
     "name": "stdout",
     "output_type": "stream",
     "text": [
      "Help on function mi_funcion_1 in module __main__:\n",
      "\n",
      "mi_funcion_1(v1, v2)\n",
      "    una función para calcular nuestra primera fórmula\n",
      "\n"
     ]
    }
   ],
   "source": [
    "help(mi_funcion_1)"
   ]
  },
  {
   "cell_type": "markdown",
   "metadata": {},
   "source": [
    "### Tarea: modificar la función. Hacer cambios que generen errores y tratar de entender la causa y solucionarlo."
   ]
  },
  {
   "cell_type": "markdown",
   "metadata": {},
   "source": [
    "Una mejora mínima que le podemos hacer a nuestra función es mejorar el texto de ayuda:"
   ]
  },
  {
   "cell_type": "code",
   "execution_count": 5,
   "metadata": {},
   "outputs": [
    {
     "name": "stdout",
     "output_type": "stream",
     "text": [
      "Help on function mi_funcion_1 in module __main__:\n",
      "\n",
      "mi_funcion_1(v1, v2)\n",
      "    Una función para calcular nuestra primera fórmula. Tiene dos parámetros requeridos: v1 y v2, que deben ser números\n",
      "\n"
     ]
    }
   ],
   "source": [
    "def mi_funcion_1(v1, v2):\n",
    "    \"Una función para calcular nuestra primera fórmula. Tiene dos parámetros requeridos: v1 y v2, que deben ser números\"\n",
    "    resultado = ((2+v1)**3)/v2\n",
    "    return(resultado)\n",
    "\n",
    "help(mi_funcion_1)"
   ]
  },
  {
   "cell_type": "markdown",
   "metadata": {},
   "source": [
    "Esto también funciona para ver la documentación con una salida es más compacta:"
   ]
  },
  {
   "cell_type": "code",
   "execution_count": 6,
   "metadata": {},
   "outputs": [
    {
     "name": "stdout",
     "output_type": "stream",
     "text": [
      "Una función para calcular nuestra primera fórmula. Tiene dos parámetros requeridos: v1 y v2, que deben ser números\n"
     ]
    }
   ],
   "source": [
    "print(mi_funcion_1.__doc__)"
   ]
  },
  {
   "cell_type": "markdown",
   "metadata": {},
   "source": [
    "Después vamos a ver cómo evitar correr la función si, por ejemplo, uno de los argumentos es una string."
   ]
  },
  {
   "cell_type": "markdown",
   "metadata": {},
   "source": [
    "No sería raro que queramos usar nuestra función para calcular muchos pares v1, v2 diferentes. no de a uno, como hicimos hasta ahora. Para esto vamos a necesitar una estructura de datos nueva, y una forma de iterar, es decir, repetir algo la canitdad de veces que sea necesario.\n",
    "\n",
    "Para esto precisamos conocer que es una lista en Python."
   ]
  },
  {
   "cell_type": "markdown",
   "metadata": {},
   "source": [
    "### Listas en Python"
   ]
  },
  {
   "cell_type": "markdown",
   "metadata": {},
   "source": [
    "Una lista es una estructura de datos organizados en una secuencia. Es el equivalente de un vector en algebra lineal. Crear una lista en Python es fácil:"
   ]
  },
  {
   "cell_type": "code",
   "execution_count": 7,
   "metadata": {},
   "outputs": [],
   "source": [
    "v_lista_1 = [1, 3, 3, 4, 5, 6]"
   ]
  },
  {
   "cell_type": "code",
   "execution_count": 8,
   "metadata": {},
   "outputs": [
    {
     "data": {
      "text/plain": [
       "[1, 3, 3, 4, 5, 6]"
      ]
     },
     "execution_count": 8,
     "metadata": {},
     "output_type": "execute_result"
    }
   ],
   "source": [
    "v_lista_1"
   ]
  },
  {
   "cell_type": "markdown",
   "metadata": {},
   "source": [
    "También se puede crear una lista vacía, a la que más adelante se le agregar datos:"
   ]
  },
  {
   "cell_type": "code",
   "execution_count": 9,
   "metadata": {},
   "outputs": [],
   "source": [
    "lista_vacia = list()"
   ]
  },
  {
   "cell_type": "code",
   "execution_count": 10,
   "metadata": {},
   "outputs": [
    {
     "data": {
      "text/plain": [
       "[]"
      ]
     },
     "execution_count": 10,
     "metadata": {},
     "output_type": "execute_result"
    }
   ],
   "source": [
    "lista_vacia"
   ]
  },
  {
   "cell_type": "markdown",
   "metadata": {},
   "source": [
    "¿Qué respoderá la función *type()* si le pasamos una lista como argumenta?"
   ]
  },
  {
   "cell_type": "code",
   "execution_count": 11,
   "metadata": {},
   "outputs": [
    {
     "data": {
      "text/plain": [
       "list"
      ]
     },
     "execution_count": 11,
     "metadata": {},
     "output_type": "execute_result"
    }
   ],
   "source": [
    "type(v_lista_1)"
   ]
  },
  {
   "cell_type": "markdown",
   "metadata": {},
   "source": [
    "Una de las ventajas de las listas es que nos permiten mantener agregados datos que forman un conjunto. Otro ventaja es que son conjuntos ordenados. Esto sirve para recuperar elementos específicos de la lista.\n",
    "\n",
    "Por ejemplo, para recuperar el primer elemento de la lista:"
   ]
  },
  {
   "cell_type": "code",
   "execution_count": 12,
   "metadata": {},
   "outputs": [
    {
     "data": {
      "text/plain": [
       "1"
      ]
     },
     "execution_count": 12,
     "metadata": {},
     "output_type": "execute_result"
    }
   ],
   "source": [
    "v_lista_1[0]"
   ]
  },
  {
   "cell_type": "markdown",
   "metadata": {},
   "source": [
    "**Atención, atención**: las secuencias en Python comienzan en cero. Esto es causa de infinitas confusiones con R, donde las secuencias comienzan en uno."
   ]
  },
  {
   "cell_type": "markdown",
   "metadata": {},
   "source": [
    "Ahora recuperamos los tres primeros elementos de la lista:"
   ]
  },
  {
   "cell_type": "code",
   "execution_count": 13,
   "metadata": {},
   "outputs": [
    {
     "data": {
      "text/plain": [
       "[1, 3, 3]"
      ]
     },
     "execution_count": 13,
     "metadata": {},
     "output_type": "execute_result"
    }
   ],
   "source": [
    "v_lista_1[0:3]"
   ]
  },
  {
   "cell_type": "markdown",
   "metadata": {},
   "source": [
    "**Atención, atención:** \"0:3\" es la forma de inidicar una secuencia, de principio a fin. En este caso la secuencia 0, 1, 2. Intituitivamente uno esperaría que la secuencia incluyera al 3, pero no. Esto tiene una justificación, pero no la vamos a ver por ahora. En este momento lo importante es recordar que si uno quiere recuperar hasta el elemento *n* inclusive, la descripción de la secuencia tiene que llegar hasta *n+1*.\n",
    "\n",
    "Como se imaginarán, esta es otra causa de confusión con R y de miradas sospechosas, a veces peor que eso, entre programadores/as de uno y otro lenguaje."
   ]
  },
  {
   "cell_type": "markdown",
   "metadata": {},
   "source": [
    "Otro ejemplo. De esta manera recuperamos el segundo elemento y los que le siguen:"
   ]
  },
  {
   "cell_type": "code",
   "execution_count": 14,
   "metadata": {},
   "outputs": [
    {
     "data": {
      "text/plain": [
       "[3, 3, 4, 5, 6]"
      ]
     },
     "execution_count": 14,
     "metadata": {},
     "output_type": "execute_result"
    }
   ],
   "source": [
    "v_lista_1[1:]"
   ]
  },
  {
   "cell_type": "markdown",
   "metadata": {},
   "source": [
    "Prestar atención al efecto de este comando:"
   ]
  },
  {
   "cell_type": "code",
   "execution_count": 15,
   "metadata": {},
   "outputs": [
    {
     "data": {
      "text/plain": [
       "6"
      ]
     },
     "execution_count": 15,
     "metadata": {},
     "output_type": "execute_result"
    }
   ],
   "source": [
    "v_lista_1[-1]"
   ]
  },
  {
   "cell_type": "markdown",
   "metadata": {},
   "source": [
    "Y este otro:"
   ]
  },
  {
   "cell_type": "code",
   "execution_count": 16,
   "metadata": {},
   "outputs": [
    {
     "data": {
      "text/plain": [
       "[5, 6]"
      ]
     },
     "execution_count": 16,
     "metadata": {},
     "output_type": "execute_result"
    }
   ],
   "source": [
    "v_lista_1[-2:]"
   ]
  },
  {
   "cell_type": "markdown",
   "metadata": {},
   "source": [
    "Estas son formas de recuperar el último elemento de la lista, o una fracción empezando desde atrás. Observar que en estos casos el último elemento es -1. Esto es así porque no tiene sentido expresarlo como -0."
   ]
  },
  {
   "cell_type": "markdown",
   "metadata": {},
   "source": [
    "### Funciones y métodos para listas"
   ]
  },
  {
   "cell_type": "markdown",
   "metadata": {},
   "source": [
    "A continuación van algunos ejemplos. La mayoria son auto-explicativos, para otros busquen en la ayuda de Python. Hagan pruebas con otros argumentos. Y como siempre busquen cometer errores y tratar de entender qué pasó."
   ]
  },
  {
   "cell_type": "code",
   "execution_count": 17,
   "metadata": {},
   "outputs": [
    {
     "data": {
      "text/plain": [
       "6"
      ]
     },
     "execution_count": 17,
     "metadata": {},
     "output_type": "execute_result"
    }
   ],
   "source": [
    "len(v_lista_1)"
   ]
  },
  {
   "cell_type": "code",
   "execution_count": 18,
   "metadata": {},
   "outputs": [],
   "source": [
    "v_lista_1.reverse()"
   ]
  },
  {
   "cell_type": "code",
   "execution_count": 19,
   "metadata": {},
   "outputs": [
    {
     "data": {
      "text/plain": [
       "[6, 5, 4, 3, 3, 1]"
      ]
     },
     "execution_count": 19,
     "metadata": {},
     "output_type": "execute_result"
    }
   ],
   "source": [
    "v_lista_1"
   ]
  },
  {
   "cell_type": "code",
   "execution_count": 20,
   "metadata": {},
   "outputs": [],
   "source": [
    "v_lista_1.reverse()"
   ]
  },
  {
   "cell_type": "code",
   "execution_count": 21,
   "metadata": {},
   "outputs": [
    {
     "data": {
      "text/plain": [
       "[1, 3, 3, 4, 5, 6]"
      ]
     },
     "execution_count": 21,
     "metadata": {},
     "output_type": "execute_result"
    }
   ],
   "source": [
    "v_lista_1"
   ]
  },
  {
   "cell_type": "code",
   "execution_count": 22,
   "metadata": {},
   "outputs": [
    {
     "data": {
      "text/plain": [
       "2"
      ]
     },
     "execution_count": 22,
     "metadata": {},
     "output_type": "execute_result"
    }
   ],
   "source": [
    "v_lista_1.count(3)"
   ]
  },
  {
   "cell_type": "code",
   "execution_count": 23,
   "metadata": {},
   "outputs": [
    {
     "data": {
      "text/plain": [
       "0"
      ]
     },
     "execution_count": 23,
     "metadata": {},
     "output_type": "execute_result"
    }
   ],
   "source": [
    "v_lista_1.count(2)"
   ]
  },
  {
   "cell_type": "markdown",
   "metadata": {},
   "source": [
    "**Prestar mucha atención a lo que sigue:**"
   ]
  },
  {
   "cell_type": "code",
   "execution_count": 24,
   "metadata": {},
   "outputs": [],
   "source": [
    "lista_temp = v_lista_1"
   ]
  },
  {
   "cell_type": "code",
   "execution_count": 25,
   "metadata": {},
   "outputs": [
    {
     "data": {
      "text/plain": [
       "[1, 3, 3, 4, 5, 6]"
      ]
     },
     "execution_count": 25,
     "metadata": {},
     "output_type": "execute_result"
    }
   ],
   "source": [
    "lista_temp"
   ]
  },
  {
   "cell_type": "code",
   "execution_count": 26,
   "metadata": {},
   "outputs": [],
   "source": [
    "v_lista_1[2] = 10"
   ]
  },
  {
   "cell_type": "code",
   "execution_count": 27,
   "metadata": {},
   "outputs": [
    {
     "data": {
      "text/plain": [
       "[1, 3, 10, 4, 5, 6]"
      ]
     },
     "execution_count": 27,
     "metadata": {},
     "output_type": "execute_result"
    }
   ],
   "source": [
    "v_lista_1"
   ]
  },
  {
   "cell_type": "code",
   "execution_count": 28,
   "metadata": {},
   "outputs": [
    {
     "data": {
      "text/plain": [
       "[1, 3, 10, 4, 5, 6]"
      ]
     },
     "execution_count": 28,
     "metadata": {},
     "output_type": "execute_result"
    }
   ],
   "source": [
    "lista_temp"
   ]
  },
  {
   "cell_type": "markdown",
   "metadata": {},
   "source": [
    "¡También se modificó *lista_temp*!\n",
    "\n",
    "Probablemente esto no es lo que queríamos. La manera correcta de crear una copia nueva de la lista es:"
   ]
  },
  {
   "cell_type": "code",
   "execution_count": 29,
   "metadata": {},
   "outputs": [],
   "source": [
    "lista_temp = v_lista_1.copy()"
   ]
  },
  {
   "cell_type": "code",
   "execution_count": 30,
   "metadata": {},
   "outputs": [],
   "source": [
    "v_lista_1[2] = 3"
   ]
  },
  {
   "cell_type": "code",
   "execution_count": 31,
   "metadata": {},
   "outputs": [
    {
     "data": {
      "text/plain": [
       "[1, 3, 10, 4, 5, 6]"
      ]
     },
     "execution_count": 31,
     "metadata": {},
     "output_type": "execute_result"
    }
   ],
   "source": [
    "lista_temp"
   ]
  },
  {
   "cell_type": "code",
   "execution_count": 32,
   "metadata": {},
   "outputs": [
    {
     "data": {
      "text/plain": [
       "[1, 3, 3, 4, 5, 6]"
      ]
     },
     "execution_count": 32,
     "metadata": {},
     "output_type": "execute_result"
    }
   ],
   "source": [
    "v_lista_1"
   ]
  },
  {
   "cell_type": "markdown",
   "metadata": {},
   "source": [
    "¡Ahora sí!\n",
    "\n",
    "Las listas pueden ser también de cadenas de caracteres o de valores lógicos, o de otros tipos de datos, pero en una lista todos deben ser del mismo tipo.\n",
    "\n",
    "Estas listas son válidas:"
   ]
  },
  {
   "cell_type": "code",
   "execution_count": 33,
   "metadata": {},
   "outputs": [
    {
     "data": {
      "text/plain": [
       "['enero', 'febrero', 'marzo', 'abril']"
      ]
     },
     "execution_count": 33,
     "metadata": {},
     "output_type": "execute_result"
    }
   ],
   "source": [
    "['enero', 'febrero', 'marzo', 'abril']"
   ]
  },
  {
   "cell_type": "code",
   "execution_count": 34,
   "metadata": {},
   "outputs": [
    {
     "data": {
      "text/plain": [
       "[True, True, False, True, True, False]"
      ]
     },
     "execution_count": 34,
     "metadata": {},
     "output_type": "execute_result"
    }
   ],
   "source": [
    "[True, True, False, True, True, False]"
   ]
  },
  {
   "cell_type": "markdown",
   "metadata": {},
   "source": [
    "## Iteraciones"
   ]
  },
  {
   "cell_type": "markdown",
   "metadata": {},
   "source": [
    "Nuestra función *mi_funcion_1* tiene dos parámetros, *v1* y *v2*, por lo que necesitaremos dos listas de números, una para cada parámetro. De esta manera, primero calculamos la función para los primeros elementos de ambas listas -ese es nuestro primer par de argumentos-, luego para los dos segundos elementos, y así hasta terminar la lista.\n",
    "\n",
    "La lista que creamos antes, *v_lista_1*, la usaremos como uno de los argumentos, y creamos otra para el segundo argumento:"
   ]
  },
  {
   "cell_type": "code",
   "execution_count": 35,
   "metadata": {},
   "outputs": [],
   "source": [
    "v_lista_2 = [1, 2, 6, 8, 10, 12]"
   ]
  },
  {
   "cell_type": "markdown",
   "metadata": {},
   "source": [
    "Ahora necesitamos alguna estructura que nos permita recorrer estas dos listas, un elemeno de cada una por vez, hasta llegar al final. Es decir, necesitaríamos hacer algo así, pero automático:"
   ]
  },
  {
   "cell_type": "code",
   "execution_count": 36,
   "metadata": {},
   "outputs": [
    {
     "data": {
      "text/plain": [
       "42.666666666666664"
      ]
     },
     "execution_count": 36,
     "metadata": {},
     "output_type": "execute_result"
    }
   ],
   "source": [
    "mi_funcion_1( v_lista_1[0], v_lista_2[0])\n",
    "mi_funcion_1( v_lista_1[1], v_lista_2[1])\n",
    "mi_funcion_1( v_lista_1[2], v_lista_2[2])\n",
    "#...\n",
    "mi_funcion_1( v_lista_1[5], v_lista_2[5])\n"
   ]
  },
  {
   "cell_type": "markdown",
   "metadata": {},
   "source": [
    "En Python, y en otros lenguajes, la estructura que se usa para esto es un loop *for*. Vamos a emepzar con una versión simple, pero que funciona."
   ]
  },
  {
   "cell_type": "code",
   "execution_count": 37,
   "metadata": {},
   "outputs": [
    {
     "name": "stdout",
     "output_type": "stream",
     "text": [
      "27.0\n",
      "62.5\n",
      "20.833333333333332\n",
      "27.0\n",
      "34.3\n",
      "42.666666666666664\n"
     ]
    }
   ],
   "source": [
    "for i in [0, 1, 2, 3, 4 ,5]:\n",
    "        print(mi_funcion_1(v_lista_1[i], v_lista_2[i] ))"
   ]
  },
  {
   "cell_type": "markdown",
   "metadata": {},
   "source": [
    "¿Qué hicimos? Le pedimos a *for* que recorra una lista y que en cada paso la variable *i* tome un valor sucesivo de esa lista, desde cero hasta cinco.\n",
    "\n",
    "Funciona, pero podemos hacer varias mejoras. La primera: es un poco molesto tener que explicitar la lista completa. Para simplificar esto usaremos la función *range()*:"
   ]
  },
  {
   "cell_type": "code",
   "execution_count": 38,
   "metadata": {},
   "outputs": [
    {
     "data": {
      "text/plain": [
       "range(0, 6)"
      ]
     },
     "execution_count": 38,
     "metadata": {},
     "output_type": "execute_result"
    }
   ],
   "source": [
    "range(6)"
   ]
  },
  {
   "cell_type": "markdown",
   "metadata": {},
   "source": [
    "La función *range()* crea una secuencia entre un número inicial y uno final. Si se pasa un solo argumento, como en nuestro caso, la secuencia irá desde cero hasta lo que indique el argumento que se pasó y en saltos de a uno. El límite superior de la secuencia funciona como vimos antes para las listas, es el valor final real más uno. Opcionalmente, también se puede especificar con un tercer argumento el largo del salto, es decir, se podría definir una secuencia del tipo 0, 2, 4, 6 ,8.\n",
    "\n",
    "Para ver la lista resultante, hacemos:"
   ]
  },
  {
   "cell_type": "code",
   "execution_count": 39,
   "metadata": {},
   "outputs": [
    {
     "data": {
      "text/plain": [
       "[0, 1, 2, 3, 4, 5]"
      ]
     },
     "execution_count": 39,
     "metadata": {},
     "output_type": "execute_result"
    }
   ],
   "source": [
    "list(range(6))"
   ]
  },
  {
   "cell_type": "code",
   "execution_count": 40,
   "metadata": {},
   "outputs": [
    {
     "name": "stdout",
     "output_type": "stream",
     "text": [
      "27.0\n",
      "62.5\n",
      "20.833333333333332\n",
      "27.0\n",
      "34.3\n",
      "42.666666666666664\n"
     ]
    }
   ],
   "source": [
    "for i in range(6):\n",
    "     print(mi_funcion_1(v_lista_1[i], v_lista_2[i] ))"
   ]
  },
  {
   "cell_type": "markdown",
   "metadata": {},
   "source": [
    "¡Mejor! Pero se puede mejorar aún más. No hace falta que conozcamos de antemano el largo de las listas. Hay una función para determinar el largo, *len()*, y como las listas son del mismo largo, con determinar uno es suficiente:"
   ]
  },
  {
   "cell_type": "code",
   "execution_count": 41,
   "metadata": {},
   "outputs": [
    {
     "name": "stdout",
     "output_type": "stream",
     "text": [
      "27.0\n",
      "62.5\n",
      "20.833333333333332\n",
      "27.0\n",
      "34.3\n",
      "42.666666666666664\n"
     ]
    }
   ],
   "source": [
    "for i in range(len(v_lista_1)):\n",
    "     print(mi_funcion_1(v_lista_1[i], v_lista_2[i] ))"
   ]
  },
  {
   "cell_type": "markdown",
   "metadata": {},
   "source": [
    "De esta manera conseguimos un çodigo más abstracto y general. \n",
    "\n",
    "Si quisiéramos asignar los valores a una lista nueva, en lugar de imprimir los valores, podríamos hacer esto, usando el método *append()* de las listas:"
   ]
  },
  {
   "cell_type": "code",
   "execution_count": 42,
   "metadata": {},
   "outputs": [
    {
     "name": "stdout",
     "output_type": "stream",
     "text": [
      "[27.0, 62.5, 20.833333333333332, 27.0, 34.3, 42.666666666666664]\n"
     ]
    }
   ],
   "source": [
    "lista_resultado = list()\n",
    "for i in range(len(v_lista_1)):\n",
    "    resultado = mi_funcion_1(v_lista_1[i], v_lista_2[i] )\n",
    "    lista_resultado.append(resultado) \n",
    "   \n",
    "print(lista_resultado)"
   ]
  },
  {
   "cell_type": "markdown",
   "metadata": {},
   "source": [
    "Se pueden hacer otras modificaciones para hacer el código más compacto, pero por ahora es suficiente."
   ]
  },
  {
   "cell_type": "markdown",
   "metadata": {},
   "source": [
    "## Repaso\n",
    "\n",
    "Al llegar aquí punto deberías entender estos puntos:\n",
    "\n",
    "* Cómo construir una función sencilla.\n",
    "* Cómo crear listas listas\n",
    "* Entender para que sirve una lista y hacer algunas operaciones con ellas.\n",
    "* Poder hacer un iteración usando el comando *for*"
   ]
  },
  {
   "cell_type": "code",
   "execution_count": 43,
   "metadata": {},
   "outputs": [
    {
     "data": {
      "text/plain": [
       "[1, 3, 3, 4, 5, 6]"
      ]
     },
     "execution_count": 43,
     "metadata": {},
     "output_type": "execute_result"
    }
   ],
   "source": [
    "v_lista_1"
   ]
  },
  {
   "cell_type": "code",
   "execution_count": 44,
   "metadata": {},
   "outputs": [
    {
     "data": {
      "text/plain": [
       "[1, 2, 6, 8, 10, 12]"
      ]
     },
     "execution_count": 44,
     "metadata": {},
     "output_type": "execute_result"
    }
   ],
   "source": [
    "v_lista_2"
   ]
  },
  {
   "cell_type": "code",
   "execution_count": 45,
   "metadata": {},
   "outputs": [
    {
     "name": "stdout",
     "output_type": "stream",
     "text": [
      "[27.0, 62.5, 20.833333333333332, 27.0, 34.3, 42.666666666666664]\n"
     ]
    }
   ],
   "source": [
    "list_a = list()\n",
    "for j in range(len(v_lista_2)):\n",
    "    res = mi_funcion_1(v_lista_1[j], v_lista_2[j] )\n",
    "    list_a.append(res)\n",
    "    \n",
    "print(list_a)"
   ]
  },
  {
   "cell_type": "code",
   "execution_count": 57,
   "metadata": {},
   "outputs": [
    {
     "name": "stdout",
     "output_type": "stream",
     "text": [
      "el resultado es: 3.1446\n"
     ]
    }
   ],
   "source": [
    "print(\"el resultado es: \" + str(round(3.14455564454, 4)))"
   ]
  },
  {
   "cell_type": "code",
   "execution_count": null,
   "metadata": {},
   "outputs": [],
   "source": []
  }
 ],
 "metadata": {
  "kernelspec": {
   "display_name": "Python 3",
   "language": "python",
   "name": "python3"
  },
  "language_info": {
   "codemirror_mode": {
    "name": "ipython",
    "version": 3
   },
   "file_extension": ".py",
   "mimetype": "text/x-python",
   "name": "python",
   "nbconvert_exporter": "python",
   "pygments_lexer": "ipython3",
   "version": "3.8.5"
  }
 },
 "nbformat": 4,
 "nbformat_minor": 4
}
