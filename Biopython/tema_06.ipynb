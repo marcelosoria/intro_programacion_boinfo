{
 "cells": [
  {
   "cell_type": "markdown",
   "metadata": {},
   "source": [
    "# Biopython. Conexión a bases de datos externas"
   ]
  },
  {
   "cell_type": "markdown",
   "metadata": {},
   "source": [
    "El NCBI no es la única base de datos bioinformáticos, existen varias más que son de interés. La mayoría de las bases de datos bioinformáticas ofrecen formas de conectarse a ellas de manera programática, esto es, en lugar de hacerlo desde un sitio web en forma interactiva, la conexión es directa desde un script en nuestra computadora a uno de los servidores de estas bases de datos. Biopython cuenta con objetos y métodos para conectarse a diferentes bases de datos. Además, algunas bases de datos cuentan con APIs (application programming interface) que cumplen la misma función de conectividad.\n",
    "\n",
    "Vamos a aprender a trabajar con varias de estas herramientas con un ejemplo que desarrollaremos de a pasos."
   ]
  },
  {
   "cell_type": "markdown",
   "metadata": {},
   "source": [
    "## El metabolismo de la tirosina en *Saccharomyces cerevisiae*"
   ]
  },
  {
   "cell_type": "markdown",
   "metadata": {},
   "source": [
    "### Trabajar con la base de datos KEGG"
   ]
  },
  {
   "cell_type": "markdown",
   "metadata": {},
   "source": [
    "El metabolismo de la tirosina en *S. cerevisiae* es, de acuerdo a cómo lo define KEGG, una via con pocos pasos, lo que lo hace apropiado para nuestro ejemplo. Este es el link a esta vía en KEGG:\n",
    "\n",
    "https://www.genome.jp/entry/pathway+sce00350\n",
    "\n",
    "KEGG expone una API y tanto Biopython como Bioconductor cuentan con funciones para interactuar con esa API. El identificador KEGG del genoma de *S. cerevisiae* es \"sce\". A partir de este dato vamos a recopilar toda la información relevante sobre el metabolismo de la tirosina en *S. cerevisiae*. "
   ]
  },
  {
   "cell_type": "code",
   "execution_count": 2,
   "metadata": {},
   "outputs": [],
   "source": [
    "from Bio.KEGG import REST\n",
    "vias_levadura = REST.kegg_list(\"pathway\", \"sce\").read()"
   ]
  },
  {
   "cell_type": "code",
   "execution_count": 3,
   "metadata": {},
   "outputs": [
    {
     "name": "stdout",
     "output_type": "stream",
     "text": [
      "Help on function kegg_list in module Bio.KEGG.REST:\n",
      "\n",
      "kegg_list(database, org=None)\n",
      "    KEGG list - Entry list for database, or specified database entries.\n",
      "    \n",
      "    db - database or organism (string)\n",
      "    org - optional organism (string), see below.\n",
      "    \n",
      "    For the pathway and module databases the optional organism can be\n",
      "    used to restrict the results.\n",
      "\n"
     ]
    }
   ],
   "source": [
    "help(REST.kegg_list)"
   ]
  },
  {
   "cell_type": "markdown",
   "metadata": {},
   "source": [
    "¿Qué información recuperamos?"
   ]
  },
  {
   "cell_type": "code",
   "execution_count": 4,
   "metadata": {},
   "outputs": [
    {
     "data": {
      "text/plain": [
       "str"
      ]
     },
     "execution_count": 4,
     "metadata": {},
     "output_type": "execute_result"
    }
   ],
   "source": [
    "type(vias_levadura)"
   ]
  },
  {
   "cell_type": "code",
   "execution_count": 5,
   "metadata": {},
   "outputs": [
    {
     "data": {
      "text/plain": [
       "9768"
      ]
     },
     "execution_count": 5,
     "metadata": {},
     "output_type": "execute_result"
    }
   ],
   "source": [
    "len(vias_levadura)"
   ]
  },
  {
   "cell_type": "code",
   "execution_count": 4,
   "metadata": {},
   "outputs": [
    {
     "data": {
      "text/plain": [
       "'path:sce00010\\tGlycolysis / Gluconeogenesis - Saccharomyces cerevisiae (budding yeast)\\npath:sce00020\\tCitrate cycle (TCA cycle) - Saccharomyces cerevisiae (budding yeast)\\npath:sce00030\\tPentose phosphate pathway - Saccharomyces cerevisiae (budding yeast)\\npath:sce00040\\tPentose and glucuronate interconve'"
      ]
     },
     "execution_count": 4,
     "metadata": {},
     "output_type": "execute_result"
    }
   ],
   "source": [
    "vias_levadura[0:300]"
   ]
  },
  {
   "cell_type": "markdown",
   "metadata": {},
   "source": [
    "Tenemos un string de 9768 caracteres. Dentro del string hay separadores de linea \"\\n\". Cada línea parece corresponder a una via metabólica, donde primero aparece el número de acceso de la vía, después del identificador \"path:\", luego hay una marca de tabulación \"\\t\" y sigue el nombre de la vía metabólica. Confirmemos:"
   ]
  },
  {
   "cell_type": "code",
   "execution_count": 6,
   "metadata": {},
   "outputs": [
    {
     "name": "stdout",
     "output_type": "stream",
     "text": [
      "path:sce00010\tGlycolysis / Gluconeogenesis - Saccharomyces cerevisiae (budding yeast)\n",
      "path:sce00020\tCitrate cycle (TCA cycle) - Saccharomyces cerevisiae (budding yeast)\n",
      "path:sce00030\tPentose phosphate pathway - Saccharomyces cerevisiae (budding yeast)\n",
      "path:sce00040\tPentose and glucuronate interconversions - Saccharomyces cerevisiae (budding yeast)\n",
      "path:sce00051\tFructose and mannose metabolism - Saccharomyces cerevisiae (budding yeast)\n",
      "path:sce00052\tGalactose metabolism - Saccharomyces cerevisiae (budding yeast)\n",
      "path:sce00053\tAscorbate and aldarate metabolism - Saccharomyces cerevisiae (budding yeast)\n",
      "path:sce00061\tFatty acid biosynthesis - Saccharomyces cerevisiae (budding yeast)\n",
      "path:sce00062\tFatty acid elongation - Saccharomyces cerevisiae (budding yeast)\n",
      "path:sce00071\tFatty acid degradation - Saccharomyces cerevisiae (budding yeast)\n",
      "path:sce00072\tSynthesis and degradation of ketone bodies - Saccharomyces cerevisiae (budding yeast)\n",
      "path:sce00100\tSteroid biosynthesis - Saccharomyces cerevisiae (budding yeast)\n",
      "path:sce00130\tUbiquinone and other terpenoid-quinone biosynthesis - Saccharomyces cerevisiae (budding yeast)\n",
      "path:sce00190\tOxidative phosphorylation - Saccharomyces cerevisiae (budding yeast)\n",
      "path:sce00220\tArginine biosynthesis - Saccharomyces cerevisiae (budding yeast)\n",
      "path:sce00230\tPurine metabolism - Saccharomyces cerevisiae (budding yeast)\n",
      "path:sce00240\tPyrimidine metabolism - Saccharomyces cerevisiae (budding yeast)\n",
      "path:sce00250\tAlanine, aspartate and glutamate metabolism - Saccharomyces cerevisiae (budding yeast)\n",
      "path:sce00260\tGlycine, serine and threonine metabolism - Saccharomyces cerevisiae (budding yeast)\n",
      "path:sce00261\tMonobactam biosynthesis - Saccharomyces cerevisiae (budding yeast)\n",
      "path:sce00270\tCysteine and methionine metabolism - Saccharomyces cerevisiae (budding yeast)\n",
      "path:sce00280\tValine, leucine and isoleucine degradation - Saccharomyces cerevisiae (budding yeast)\n",
      "path:sce00290\tValine, leucine and isoleucine biosynthesis - Saccharomyces cerevisiae (budding yeast)\n",
      "path:sce00300\tLysine biosynthesis - Saccharomyces cerevisiae (budding yeast)\n",
      "path:sce00310\tLysine degradation - Saccharomyces cerevisiae (budding yeast)\n",
      "path:sce00330\tArginine and proline metabolism - Saccharomyces cerevisiae (budding yeast)\n",
      "path:sce00332\tCarbapenem biosynthesis - Saccharomyces cerevisiae (budding yeast)\n",
      "path:sce00340\tHistidine metabolism - Saccharomyces cerevisiae (budding yeast)\n",
      "path:sce00350\tTyrosine metabolism - Saccharomyces cerevisiae (budding yeast)\n",
      "path:sce00360\tPhenylalanine metabolism - Saccharomyces cerevisiae (budding yeast)\n",
      "path:sce00380\tTryptophan metabolism - Saccharomyces cerevisiae (budding yeast)\n",
      "path:sce00400\tPhenylalanine, tyrosine and tryptophan biosynthesis - Saccharomyces cerevisiae (budding yeast)\n",
      "path:sce00410\tbeta-Alanine metabolism - Saccharomyces cerevisiae (budding yeast)\n",
      "path:sce00430\tTaurine and hypotaurine metabolism - Saccharomyces cerevisiae (budding yeast)\n",
      "path:sce00440\tPhosphonate and phosphinate metabolism - Saccharomyces cerevisiae (budding yeast)\n",
      "path:sce00450\tSelenocompound metabolism - Saccharomyces cerevisiae (budding yeast)\n",
      "path:sce00460\tCyanoamino acid metabolism - Saccharomyces cerevisiae (budding yeast)\n",
      "path:sce00480\tGlutathione metabolism - Saccharomyces cerevisiae (budding yeast)\n",
      "path:sce00500\tStarch and sucrose metabolism - Saccharomyces cerevisiae (budding yeast)\n",
      "path:sce00510\tN-Glycan biosynthesis - Saccharomyces cerevisiae (budding yeast)\n",
      "path:sce00511\tOther glycan degradation - Saccharomyces cerevisiae (budding yeast)\n",
      "path:sce00513\tVarious types of N-glycan biosynthesis - Saccharomyces cerevisiae (budding yeast)\n",
      "path:sce00514\tOther types of O-glycan biosynthesis - Saccharomyces cerevisiae (budding yeast)\n",
      "path:sce00515\tMannose type O-glycan biosynthesis - Saccharomyces cerevisiae (budding yeast)\n",
      "path:sce00520\tAmino sugar and nucleotide sugar metabolism - Saccharomyces cerevisiae (budding yeast)\n",
      "path:sce00561\tGlycerolipid metabolism - Saccharomyces cerevisiae (budding yeast)\n",
      "path:sce00562\tInositol phosphate metabolism - Saccharomyces cerevisiae (budding yeast)\n",
      "path:sce00563\tGlycosylphosphatidylinositol (GPI)-anchor biosynthesis - Saccharomyces cerevisiae (budding yeast)\n",
      "path:sce00564\tGlycerophospholipid metabolism - Saccharomyces cerevisiae (budding yeast)\n",
      "path:sce00565\tEther lipid metabolism - Saccharomyces cerevisiae (budding yeast)\n",
      "path:sce00590\tArachidonic acid metabolism - Saccharomyces cerevisiae (budding yeast)\n",
      "path:sce00592\talpha-Linolenic acid metabolism - Saccharomyces cerevisiae (budding yeast)\n",
      "path:sce00600\tSphingolipid metabolism - Saccharomyces cerevisiae (budding yeast)\n",
      "path:sce00620\tPyruvate metabolism - Saccharomyces cerevisiae (budding yeast)\n",
      "path:sce00630\tGlyoxylate and dicarboxylate metabolism - Saccharomyces cerevisiae (budding yeast)\n",
      "path:sce00640\tPropanoate metabolism - Saccharomyces cerevisiae (budding yeast)\n",
      "path:sce00650\tButanoate metabolism - Saccharomyces cerevisiae (budding yeast)\n",
      "path:sce00660\tC5-Branched dibasic acid metabolism - Saccharomyces cerevisiae (budding yeast)\n",
      "path:sce00670\tOne carbon pool by folate - Saccharomyces cerevisiae (budding yeast)\n",
      "path:sce00680\tMethane metabolism - Saccharomyces cerevisiae (budding yeast)\n",
      "path:sce00730\tThiamine metabolism - Saccharomyces cerevisiae (budding yeast)\n",
      "path:sce00740\tRiboflavin metabolism - Saccharomyces cerevisiae (budding yeast)\n",
      "path:sce00750\tVitamin B6 metabolism - Saccharomyces cerevisiae (budding yeast)\n",
      "path:sce00760\tNicotinate and nicotinamide metabolism - Saccharomyces cerevisiae (budding yeast)\n",
      "path:sce00770\tPantothenate and CoA biosynthesis - Saccharomyces cerevisiae (budding yeast)\n",
      "path:sce00780\tBiotin metabolism - Saccharomyces cerevisiae (budding yeast)\n",
      "path:sce00785\tLipoic acid metabolism - Saccharomyces cerevisiae (budding yeast)\n",
      "path:sce00790\tFolate biosynthesis - Saccharomyces cerevisiae (budding yeast)\n",
      "path:sce00791\tAtrazine degradation - Saccharomyces cerevisiae (budding yeast)\n",
      "path:sce00860\tPorphyrin and chlorophyll metabolism - Saccharomyces cerevisiae (budding yeast)\n",
      "path:sce00900\tTerpenoid backbone biosynthesis - Saccharomyces cerevisiae (budding yeast)\n",
      "path:sce00909\tSesquiterpenoid and triterpenoid biosynthesis - Saccharomyces cerevisiae (budding yeast)\n",
      "path:sce00910\tNitrogen metabolism - Saccharomyces cerevisiae (budding yeast)\n",
      "path:sce00920\tSulfur metabolism - Saccharomyces cerevisiae (budding yeast)\n",
      "path:sce00970\tAminoacyl-tRNA biosynthesis - Saccharomyces cerevisiae (budding yeast)\n",
      "path:sce01040\tBiosynthesis of unsaturated fatty acids - Saccharomyces cerevisiae (budding yeast)\n",
      "path:sce01100\tMetabolic pathways - Saccharomyces cerevisiae (budding yeast)\n",
      "path:sce01110\tBiosynthesis of secondary metabolites - Saccharomyces cerevisiae (budding yeast)\n",
      "path:sce01200\tCarbon metabolism - Saccharomyces cerevisiae (budding yeast)\n",
      "path:sce01210\t2-Oxocarboxylic acid metabolism - Saccharomyces cerevisiae (budding yeast)\n",
      "path:sce01212\tFatty acid metabolism - Saccharomyces cerevisiae (budding yeast)\n",
      "path:sce01230\tBiosynthesis of amino acids - Saccharomyces cerevisiae (budding yeast)\n",
      "path:sce01240\tBiosynthesis of cofactors - Saccharomyces cerevisiae (budding yeast)\n",
      "path:sce02010\tABC transporters - Saccharomyces cerevisiae (budding yeast)\n",
      "path:sce03008\tRibosome biogenesis in eukaryotes - Saccharomyces cerevisiae (budding yeast)\n",
      "path:sce03010\tRibosome - Saccharomyces cerevisiae (budding yeast)\n",
      "path:sce03013\tRNA transport - Saccharomyces cerevisiae (budding yeast)\n",
      "path:sce03015\tmRNA surveillance pathway - Saccharomyces cerevisiae (budding yeast)\n",
      "path:sce03018\tRNA degradation - Saccharomyces cerevisiae (budding yeast)\n",
      "path:sce03020\tRNA polymerase - Saccharomyces cerevisiae (budding yeast)\n",
      "path:sce03022\tBasal transcription factors - Saccharomyces cerevisiae (budding yeast)\n",
      "path:sce03030\tDNA replication - Saccharomyces cerevisiae (budding yeast)\n",
      "path:sce03040\tSpliceosome - Saccharomyces cerevisiae (budding yeast)\n",
      "path:sce03050\tProteasome - Saccharomyces cerevisiae (budding yeast)\n",
      "path:sce03060\tProtein export - Saccharomyces cerevisiae (budding yeast)\n",
      "path:sce03410\tBase excision repair - Saccharomyces cerevisiae (budding yeast)\n",
      "path:sce03420\tNucleotide excision repair - Saccharomyces cerevisiae (budding yeast)\n",
      "path:sce03430\tMismatch repair - Saccharomyces cerevisiae (budding yeast)\n",
      "path:sce03440\tHomologous recombination - Saccharomyces cerevisiae (budding yeast)\n",
      "path:sce03450\tNon-homologous end-joining - Saccharomyces cerevisiae (budding yeast)\n",
      "path:sce04011\tMAPK signaling pathway - yeast - Saccharomyces cerevisiae (budding yeast)\n",
      "path:sce04070\tPhosphatidylinositol signaling system - Saccharomyces cerevisiae (budding yeast)\n",
      "path:sce04111\tCell cycle - yeast - Saccharomyces cerevisiae (budding yeast)\n",
      "path:sce04113\tMeiosis - yeast - Saccharomyces cerevisiae (budding yeast)\n",
      "path:sce04120\tUbiquitin mediated proteolysis - Saccharomyces cerevisiae (budding yeast)\n",
      "path:sce04122\tSulfur relay system - Saccharomyces cerevisiae (budding yeast)\n",
      "path:sce04130\tSNARE interactions in vesicular transport - Saccharomyces cerevisiae (budding yeast)\n",
      "path:sce04136\tAutophagy - other - Saccharomyces cerevisiae (budding yeast)\n",
      "path:sce04138\tAutophagy - yeast - Saccharomyces cerevisiae (budding yeast)\n",
      "path:sce04139\tMitophagy - yeast - Saccharomyces cerevisiae (budding yeast)\n",
      "path:sce04141\tProtein processing in endoplasmic reticulum - Saccharomyces cerevisiae (budding yeast)\n",
      "path:sce04144\tEndocytosis - Saccharomyces cerevisiae (budding yeast)\n",
      "path:sce04145\tPhagosome - Saccharomyces cerevisiae (budding yeast)\n",
      "path:sce04146\tPeroxisome - Saccharomyces cerevisiae (budding yeast)\n",
      "path:sce04213\tLongevity regulating pathway - multiple species - Saccharomyces cerevisiae (budding yeast)\n",
      "path:sce04392\tHippo signaling pathway - multiple species - Saccharomyces cerevisiae (budding yeast)\n"
     ]
    }
   ],
   "source": [
    "for linea in vias_levadura.split(\"\\n\"):\n",
    "    print(linea)\n"
   ]
  },
  {
   "cell_type": "markdown",
   "metadata": {},
   "source": [
    "Ahora deberíamos buscar línea por línea cuál es la vía que corresponde al metabolismo de la tirosina... ¡De ninguna manera! ¿Para qué estamos aprendiendo a programar? Necesitamos buscar el texto \"tyrosine\" en cada línea."
   ]
  },
  {
   "cell_type": "code",
   "execution_count": 6,
   "metadata": {},
   "outputs": [
    {
     "name": "stdout",
     "output_type": "stream",
     "text": [
      "path:sce00400\tPhenylalanine, tyrosine and tryptophan biosynthesis - Saccharomyces cerevisiae (budding yeast)\n"
     ]
    }
   ],
   "source": [
    "for linea in vias_levadura.split(\"\\n\"):\n",
    "    if 'tyrosine' in linea:\n",
    "        print(linea)\n"
   ]
  },
  {
   "cell_type": "markdown",
   "metadata": {},
   "source": [
    "Mmmm... Pasó algo acá. KEGG cuenta con una vía específica del metabolismo de la tirosina, lo que recuperamos es una que se refiere sólo a la biosíntesis.\n",
    "\n",
    "La respuesta tiene que ver con una consideración importante: las búsquedas de texto en Python (y en R, y en linux) son sensibles a mayúsculas y minúsculas. Esto es, nuestra búsqueda anterior no va a devolver cómo resultado una línea con el texto \"Tyrosine\". \n",
    "\n",
    "Una forma fácil de reolver esto es convertir el texto de la línea a minúsculas. Los strings tienen un método para esto:"
   ]
  },
  {
   "cell_type": "code",
   "execution_count": 7,
   "metadata": {},
   "outputs": [
    {
     "name": "stdout",
     "output_type": "stream",
     "text": [
      "path:sce00350\tTyrosine metabolism - Saccharomyces cerevisiae (budding yeast)\n",
      "path:sce00400\tPhenylalanine, tyrosine and tryptophan biosynthesis - Saccharomyces cerevisiae (budding yeast)\n"
     ]
    }
   ],
   "source": [
    "for linea in vias_levadura.split(\"\\n\"):\n",
    "    if 'tyrosine' in linea.lower():\n",
    "        print(linea)"
   ]
  },
  {
   "cell_type": "markdown",
   "metadata": {},
   "source": [
    "¡Ahora sí! La vía que nos interesa es la que tiene número de acceso sce00350."
   ]
  },
  {
   "cell_type": "markdown",
   "metadata": {},
   "source": [
    "Vamos a buscar la información de esta vía en KEGG usando la función *REST.kegg_get()*. Esta función devuelve un gestor de archivos o *handle*. Esto implica que una vez que tenemos el *handle* de la via de interés podemos operar como si fuera un archivo:"
   ]
  },
  {
   "cell_type": "code",
   "execution_count": 44,
   "metadata": {},
   "outputs": [],
   "source": [
    "via_tirosina = REST.kegg_get(\"sce00350\")\n",
    "via_tirosina_local = via_tirosina.read()"
   ]
  },
  {
   "cell_type": "code",
   "execution_count": 45,
   "metadata": {},
   "outputs": [
    {
     "data": {
      "text/plain": [
       "str"
      ]
     },
     "execution_count": 45,
     "metadata": {},
     "output_type": "execute_result"
    }
   ],
   "source": [
    "type(via_tirosina_local)"
   ]
  },
  {
   "cell_type": "code",
   "execution_count": 46,
   "metadata": {},
   "outputs": [
    {
     "data": {
      "text/plain": [
       "6316"
      ]
     },
     "execution_count": 46,
     "metadata": {},
     "output_type": "execute_result"
    }
   ],
   "source": [
    "len(via_tirosina_local)"
   ]
  },
  {
   "cell_type": "code",
   "execution_count": 11,
   "metadata": {},
   "outputs": [
    {
     "data": {
      "text/plain": [
       "'ENTRY       sce00350                    Pathway\\nNAME        Tyrosine metabolism - Saccharomyces cerevisiae (budding yeast)\\nCLASS       Metabolism; Amino acid metabolism\\nPATHWAY_MAP sce00350  Tyrosine metabolism\\nDBLINKS     GO: 0006570\\nORGANISM    Saccharomyces cerevisiae (budding yeast) [GN:sce]\\nGEN'"
      ]
     },
     "execution_count": 11,
     "metadata": {},
     "output_type": "execute_result"
    }
   ],
   "source": [
    "via_tirosina_local[0:300]"
   ]
  },
  {
   "cell_type": "markdown",
   "metadata": {},
   "source": [
    "También podemos guardar el texto del registro en un archivo de texto en nuestro directorio de trabajo. Esto nos va a ser para entender el tipo de información y pensar cómo podemos continuar:"
   ]
  },
  {
   "cell_type": "code",
   "execution_count": 12,
   "metadata": {},
   "outputs": [
    {
     "data": {
      "text/plain": [
       "6316"
      ]
     },
     "execution_count": 12,
     "metadata": {},
     "output_type": "execute_result"
    }
   ],
   "source": [
    "open(\"via_tirosina.txt\", \"w\").write(via_tirosina_local)"
   ]
  },
  {
   "cell_type": "code",
   "execution_count": 47,
   "metadata": {},
   "outputs": [
    {
     "name": "stdout",
     "output_type": "stream",
     "text": [
      "ENTRY       sce00350                    Pathway\n",
      "NAME        Tyrosine metabolism - Saccharomyces cerevisiae (budding yeast)\n",
      "CLASS       Metabolism; Amino acid metabolism\n",
      "PATHWAY_MAP sce00350  Tyrosine metabolism\n",
      "DBLINKS     GO: 0006570\n",
      "ORGANISM    Saccharomyces cerevisiae (budding yeast) [GN:sce]\n",
      "GENE        YLR027C  AAT2; aspartate transaminase AAT2 [KO:K14454] [EC:2.6.1.1]\n",
      "            YKL106W  AAT1; aspartate transaminase AAT1 [KO:K14455] [EC:2.6.1.1]\n",
      "            YIL116W  HIS5; histidinol-phosphate transaminase [KO:K00817] [EC:2.6.1.9]\n",
      "            YGL202W  ARO8; bifunctional 2-aminoadipate transaminase/aromatic-amino-acid:2-oxoglutarate transaminase [KO:K00838] [EC:2.6.1.57 2.6.1.39 2.6.1.27 2.6.1.5]\n",
      "            YHR137W  ARO9; aromatic-amino-acid:2-oxoglutarate transaminase [KO:K05821] [EC:2.6.1.58 2.6.1.28]\n",
      "            YDL168W  SFA1; bifunctional alcohol dehydrogenase/S-(hydroxymethyl)glutathione dehydrogenase [KO:K00121] [EC:1.1.1.284 1.1.1.1]\n",
      "            YOL086C  ADH1; alcohol dehydrogenase ADH1 [KO:K13953] [EC:1.1.1.1]\n",
      "            YMR303C  ADH2; alcohol dehydrogenase ADH2 [KO:K13953] [EC:1.1.1.1]\n",
      "            YBR145W  ADH5; alcohol dehydrogenase ADH5 [KO:K13953] [EC:1.1.1.1]\n",
      "            YMR083W  ADH3; alcohol dehydrogenase ADH3 [KO:K13953] [EC:1.1.1.1]\n",
      "            YGL256W  ADH4; alcohol dehydrogenase ADH4 [KO:K13954] [EC:1.1.1.1]\n",
      "            YBR006W  UGA2; succinate-semialdehyde dehydrogenase (NAD(P)(+)) [KO:K00135] [EC:1.2.1.16 1.2.1.79 1.2.1.20]\n",
      "            YNL168C  FMP41; Fmp41p [KO:K01557] [EC:3.7.1.5]\n",
      "COMPOUND    C00022  Pyruvate\n",
      "            C00042  Succinate\n",
      "            C00082  L-Tyrosine\n",
      "            C00122  Fumarate\n",
      "            C00146  Phenol\n",
      "            C00164  Acetoacetate\n",
      "            C00232  Succinate semialdehyde\n",
      "            C00355  3,4-Dihydroxy-L-phenylalanine\n",
      "            C00483  Tyramine\n",
      "            C00530  Hydroquinone\n",
      "            C00544  Homogentisate\n",
      "            C00547  L-Noradrenaline\n",
      "            C00628  2,5-Dihydroxybenzoate\n",
      "            C00642  4-Hydroxyphenylacetate\n",
      "            C00788  L-Adrenaline\n",
      "            C00811  4-Coumarate\n",
      "            C00822  Dopaquinone\n",
      "            C01036  4-Maleylacetoacetate\n",
      "            C01060  3,5-Diiodo-L-tyrosine\n",
      "            C01061  4-Fumarylacetoacetate\n",
      "            C01161  3,4-Dihydroxyphenylacetate\n",
      "            C01179  3-(4-Hydroxyphenyl)pyruvate\n",
      "            C01384  Maleic acid\n",
      "            C01693  L-Dopachrome\n",
      "            C01829  Thyroxine\n",
      "            C01850  Rosmarinate\n",
      "            C02167  Maleylpyruvate\n",
      "            C02442  N-Methyltyramine\n",
      "            C02465  Triiodothyronine\n",
      "            C02514  3-Fumarylpyruvate\n",
      "            C02515  3-Iodo-L-tyrosine\n",
      "            C03063  2-Oxohept-3-enedioate\n",
      "            C03077  4-Chlorophenylacetate\n",
      "            C03758  Dopamine\n",
      "            C03765  4-Hydroxyphenylacetaldehyde\n",
      "            C03964  (R)-3-(4-Hydroxyphenyl)lactate\n",
      "            C04043  3,4-Dihydroxyphenylacetaldehyde\n",
      "            C04045  3-(3,4-Dihydroxyphenyl)pyruvate\n",
      "            C04052  5-Carboxy-2-oxohept-3-enedioate\n",
      "            C04185  5,6-Dihydroxyindole-2-carboxylate\n",
      "            C04186  5-Carboxymethyl-2-hydroxymuconate\n",
      "            C04368  3-Amino-3-(4-hydroxyphenyl)propanoate\n",
      "            C04642  2-Hydroxy-5-carboxymethylmuconate semialdehyde\n",
      "            C04796  4-(L-Alanin-3-yl)-2-hydroxy-cis,cis-muconate 6-semialdehyde\n",
      "            C04797  5-(L-Alanin-3-yl)-2-hydroxy-cis,cis-muconate 6-semialdehyde\n",
      "            C05338  4-Hydroxyphenylacetyl-CoA\n",
      "            C05350  2-Hydroxy-3-(4-hydroxyphenyl)propenoate\n",
      "            C05576  3,4-Dihydroxyphenylethyleneglycol\n",
      "            C05577  3,4-Dihydroxymandelaldehyde\n",
      "            C05578  5,6-Dihydroxyindole\n",
      "            C05579  Indole-5,6-quinone\n",
      "            C05580  3,4-Dihydroxymandelate\n",
      "            C05581  3-Methoxy-4-hydroxyphenylacetaldehyde\n",
      "            C05582  Homovanillate\n",
      "            C05583  3-Methoxy-4-hydroxyphenylglycolaldehyde\n",
      "            C05584  3-Methoxy-4-hydroxymandelate\n",
      "            C05585  Gentisate aldehyde\n",
      "            C05587  3-Methoxytyramine\n",
      "            C05588  L-Metanephrine\n",
      "            C05589  L-Normetanephrine\n",
      "            C05593  3-Hydroxyphenylacetate\n",
      "            C05594  3-Methoxy-4-hydroxyphenylethyleneglycol\n",
      "            C05595  4-Hydroxyphenylacetylglutamic acid\n",
      "            C05596  p-Hydroxyphenylacetylglycine\n",
      "            C05600  2-Hydroxyhepta-2,4-dienedioate\n",
      "            C05604  2-Carboxy-2,3-dihydro-5,6-dihydroxyindole\n",
      "            C06044  4-Hydroxyphenylethanol\n",
      "            C06046  Salidroside\n",
      "            C06047  Stizolobate\n",
      "            C06048  Stizolobinate\n",
      "            C06199  Hordenine\n",
      "            C06201  2,4-Dihydroxyhept-2-enedioate\n",
      "            C10447  3,4-Dihydroxyphenylpropanoate\n",
      "            C17935  Cysteinyldopa\n",
      "            C17936  Phaeomelanin\n",
      "            C17937  Eumelanin\n",
      "            C17938  5,6-Indolequinone-2-carboxylic acid\n",
      "            C22038  (R)-3-(3,4-Dihydroxyphenyl)lactate\n",
      "REFERENCE   PMID:8550403\n",
      "  AUTHORS   Prieto MA, Diaz E, Garcia JL.\n",
      "  TITLE     Molecular characterization of the 4-hydroxyphenylacetate catabolic pathway of Escherichia coli W: engineering a mobile aromatic degradative cluster.\n",
      "  JOURNAL   J Bacteriol 178:111-20 (1996)\n",
      "            DOI:10.1128/JB.178.1.111-120.1996\n",
      "REFERENCE   PMID:1194238\n",
      "  AUTHORS   Sparnins VL, Dagley S.\n",
      "  TITLE     Alternative routes of aromatic catabolism in Pseudomonas acidovorans and Pseudomonas putida: gallic acid as a substrate and inhibitor of dioxygenases.\n",
      "  JOURNAL   J Bacteriol 124:1374-81 (1975)\n",
      "            DOI:10.1128/JB.124.3.1374-1381.1975\n",
      "REFERENCE   PMID:18435614\n",
      "  AUTHORS   Ito S, Wakamatsu K\n",
      "  TITLE     Chemistry of mixed melanogenesis--pivotal roles of dopaquinone.\n",
      "  JOURNAL   Photochem Photobiol 84:582-92 (2008)\n",
      "            DOI:10.1111/j.1751-1097.2007.00238.x\n",
      "REFERENCE   PMID:11171088\n",
      "  AUTHORS   Olivares C, Jimenez-Cervantes C, Lozano JA, Solano F, Garcia-Borron JC\n",
      "  TITLE     The 5,6-dihydroxyindole-2-carboxylic acid (DHICA) oxidase activity of human tyrosinase.\n",
      "  JOURNAL   Biochem J 354:131-9 (2001)\n",
      "            DOI:10.1042/bj3540131\n",
      "REL_PATHWAY sce00020  Citrate cycle (TCA cycle)\n",
      "            sce00360  Phenylalanine metabolism\n",
      "            sce00400  Phenylalanine, tyrosine and tryptophan biosynthesis\n",
      "            sce00620  Pyruvate metabolism\n",
      "            sce00650  Butanoate metabolism\n",
      "KO_PATHWAY  ko00350\n",
      "///\n",
      "\n"
     ]
    }
   ],
   "source": [
    "print(via_tirosina_local)"
   ]
  },
  {
   "cell_type": "markdown",
   "metadata": {},
   "source": [
    "Observen que en la línea anterior creamos el *handle* y a continuación llamamos el método para escribir la información de la vía metabólica. Todo en la misma línea.\n",
    "\n",
    "¿Cómo seguimos? Vamos a parsear el texto y recuperar los nombres de los genes que participan de la vía metabólica. Si prestamos atención al texto de la vía metabólica vemos que hay secciones definidas por términos como \"ENTRY\", \"CLASS\" o \"GENE\", que son los términos que se ubican en los primeros 12 caracteres de algunas línea.\n",
    "\n",
    "También observen en el texto del registro que una vez que se define una sección, por ejemplo \"GENE\", cada línea es un gen nuevo, pero no se repite el nombre de la sección: los primeros carácteres de las líneas siguientes quedan en blanco hasta llegar a la sección \"COMPOUND\".\n",
    "\n",
    "Vamos a poner todo esto en uso. Primero recuperamos las lineas que corresponden a genes:"
   ]
  },
  {
   "cell_type": "code",
   "execution_count": 13,
   "metadata": {},
   "outputs": [
    {
     "name": "stdout",
     "output_type": "stream",
     "text": [
      "GENE        YLR027C  AAT2; aspartate transaminase AAT2 [KO:K14454] [EC:2.6.1.1]\n",
      "            YKL106W  AAT1; aspartate transaminase AAT1 [KO:K14455] [EC:2.6.1.1]\n",
      "            YIL116W  HIS5; histidinol-phosphate transaminase [KO:K00817] [EC:2.6.1.9]\n",
      "            YGL202W  ARO8; bifunctional 2-aminoadipate transaminase/aromatic-amino-acid:2-oxoglutarate transaminase [KO:K00838] [EC:2.6.1.57 2.6.1.39 2.6.1.27 2.6.1.5]\n",
      "            YHR137W  ARO9; aromatic-amino-acid:2-oxoglutarate transaminase [KO:K05821] [EC:2.6.1.58 2.6.1.28]\n",
      "            YDL168W  SFA1; bifunctional alcohol dehydrogenase/S-(hydroxymethyl)glutathione dehydrogenase [KO:K00121] [EC:1.1.1.284 1.1.1.1]\n",
      "            YOL086C  ADH1; alcohol dehydrogenase ADH1 [KO:K13953] [EC:1.1.1.1]\n",
      "            YMR303C  ADH2; alcohol dehydrogenase ADH2 [KO:K13953] [EC:1.1.1.1]\n",
      "            YBR145W  ADH5; alcohol dehydrogenase ADH5 [KO:K13953] [EC:1.1.1.1]\n",
      "            YMR083W  ADH3; alcohol dehydrogenase ADH3 [KO:K13953] [EC:1.1.1.1]\n",
      "            YGL256W  ADH4; alcohol dehydrogenase ADH4 [KO:K13954] [EC:1.1.1.1]\n",
      "            YBR006W  UGA2; succinate-semialdehyde dehydrogenase (NAD(P)(+)) [KO:K00135] [EC:1.2.1.16 1.2.1.79 1.2.1.20]\n",
      "            YNL168C  FMP41; Fmp41p [KO:K01557] [EC:3.7.1.5]\n"
     ]
    }
   ],
   "source": [
    "current_section = \"\"\n",
    "\n",
    "for linea in via_tirosina_local.split(\"\\n\"):\n",
    "    if \"GENE\" in linea[0:11]:\n",
    "        current_section = linea[0:11].strip()\n",
    "        print(linea)\n",
    "    elif current_section == \"GENE\" and linea[0:11].strip() == \"\":    \n",
    "        print(linea)\n",
    "    else:\n",
    "        current_section = \"other\"\n",
    "\n"
   ]
  },
  {
   "cell_type": "markdown",
   "metadata": {},
   "source": [
    "¿Cómo funciona esto? En cada iteración preguntamos si ahí comienza la sección \"GENE\". Si esto es cierto, actualizamos el string *current_section* (pregunta ¿qué hace el método *strip()*?). \n",
    "\n",
    "Si esto es falso, preguntamos si las primeros caracteres de la línea están vacios y si *current_section* sigue siendo \"GENE\". Las líneas que cumplen con esto también nos interesan. Finalmente, si nada de esto se cumple, es porque el iterador ya entró en otra sección.\n",
    "\n",
    "Vamos a agregar algunas cosas más:"
   ]
  },
  {
   "cell_type": "code",
   "execution_count": 50,
   "metadata": {},
   "outputs": [],
   "source": [
    "gene_ids = list()\n",
    "current_section = \"\"\n",
    "\n",
    "for linea in via_tirosina_local.split(\"\\n\"):\n",
    "    if \"GENE\" in linea[0:11]:\n",
    "        current_section = linea[0:11].strip()\n",
    "        gene, gene_description = linea[12:].split(\"; \")\n",
    "        gene_id, gene_symbol = gene.split()\n",
    "        gene_ids.append(gene_id)\n",
    "    elif current_section == \"GENE\" and linea[0:11].strip() == \"\":\n",
    "        gene, gene_description = linea[12:].split(\"; \")\n",
    "        gene_id, gene_symbol = gene.split()\n",
    "        gene_ids.append(gene_id)\n",
    "    else:\n",
    "        current_section = \"other\"\n"
   ]
  },
  {
   "cell_type": "markdown",
   "metadata": {},
   "source": [
    "En esta nueva variante del script generamos una lista con los números de acceso de los genes involucrados en nuestra via de interés. Vamos a usar el primer elemento de esa lista para recuperar su registro correspondiente."
   ]
  },
  {
   "cell_type": "code",
   "execution_count": 15,
   "metadata": {},
   "outputs": [
    {
     "data": {
      "text/plain": [
       "'YLR027C'"
      ]
     },
     "execution_count": 15,
     "metadata": {},
     "output_type": "execute_result"
    }
   ],
   "source": [
    "gene_ids[0]"
   ]
  },
  {
   "cell_type": "markdown",
   "metadata": {},
   "source": [
    "Para recuperar el registro, especificamos que es un gen de *S.carevisiae* con el prefijo \"sce:\".\n",
    "También podemos ejecutar *read()* sobre el *handle* de nuestra copia local."
   ]
  },
  {
   "cell_type": "code",
   "execution_count": 16,
   "metadata": {},
   "outputs": [],
   "source": [
    "primer_gen_local = REST.kegg_get(\"sce:\" + gene_ids[0]).read()"
   ]
  },
  {
   "cell_type": "code",
   "execution_count": 52,
   "metadata": {},
   "outputs": [
    {
     "data": {
      "text/plain": [
       "5239"
      ]
     },
     "execution_count": 52,
     "metadata": {},
     "output_type": "execute_result"
    }
   ],
   "source": [
    "len(primer_gen_local)"
   ]
  },
  {
   "cell_type": "code",
   "execution_count": 18,
   "metadata": {},
   "outputs": [
    {
     "data": {
      "text/plain": [
       "'ENTRY       YLR027C           CDS       T00005\\nNAME        AAT2, ASP5\\nDEFINITION  (RefSeq) aspartate transaminase AAT2\\nORTHOLOGY   K14454  aspartate aminotransferase, cytoplasmic [EC:2.6.1.1]\\nORGANISM'"
      ]
     },
     "execution_count": 18,
     "metadata": {},
     "output_type": "execute_result"
    }
   ],
   "source": [
    "primer_gen_local[0:200]"
   ]
  },
  {
   "cell_type": "markdown",
   "metadata": {},
   "source": [
    "Como hicimos antes, podemos guardar un archivo en nuestra carpeta de trabajo:"
   ]
  },
  {
   "cell_type": "code",
   "execution_count": 19,
   "metadata": {},
   "outputs": [
    {
     "data": {
      "text/plain": [
       "5239"
      ]
     },
     "execution_count": 19,
     "metadata": {},
     "output_type": "execute_result"
    }
   ],
   "source": [
    "open(\"sce_YLR027C.txt\", \"w\").write(primer_gen_local)"
   ]
  },
  {
   "cell_type": "markdown",
   "metadata": {},
   "source": [
    "Al mirar este archivo vemos que hacia el final se encuentra esta información:\n",
    "\n",
    "<pre>\n",
    "DBLINKS     NCBI-GeneID: 850714\n",
    "            NCBI-ProteinID: NP_013127\n",
    "            SGD: S000004017\n",
    "            UniProt: P23542\n",
    "</pre>"
   ]
  },
  {
   "cell_type": "markdown",
   "metadata": {},
   "source": [
    "### Propuesta de ejercicio"
   ]
  },
  {
   "cell_type": "markdown",
   "metadata": {},
   "source": [
    "La información que recién vimos sobre la sección DBLINKS en el registro del gen YLR027C se puede recuperar programáticamente haciendo una pequeñas modificaciones al código que vimos para el análisis de la vía metabólica. Intenten hacerlo.\n",
    "\n",
    "Opcional: Hay dos funciones *REST.kegg_info()* y *REST.kegg_find()*. No son de uso tan frecuente como las que acabamos de ver, pero pueden buscar algo de información sobre ellas. Aqui tienen dos ejemplos para empezar a probrar qué hacen:\n",
    "\n",
    "<pre>\n",
    "sce_info = REST.kegg_info(\"sce\").read()\n",
    "print(sce_info)\n",
    "\n",
    "info_tirosina = REST.kegg_find(\"sce\", \"tyrosin\").read()\n",
    "print(info_tirosina)\n",
    "</pre>"
   ]
  },
  {
   "cell_type": "markdown",
   "metadata": {},
   "source": [
    "### Recuperar información desde el NCBI"
   ]
  },
  {
   "cell_type": "markdown",
   "metadata": {},
   "source": [
    "El NCBI expone la API pública \"Entrez Programming Utilities (E-utilities)\" y Biopython tiene herramientas para interactuar con esa API. En general, las clases o funciones que permiten interactuar con una API pública se conocen con el nombre de *wrappers*.\n",
    "\n",
    "Vamos a trabajar con estas funciones."
   ]
  },
  {
   "cell_type": "code",
   "execution_count": 20,
   "metadata": {},
   "outputs": [],
   "source": [
    "from Bio import Entrez\n",
    "Entrez.email = \"tu_mail@institucion.com.ar\" \n",
    "# No es obligatorio, pero por cortesía está bueno agregar nuestro e-mail al usar la API del NCBI\n",
    "handle = Entrez.einfo()\n",
    "bases_ncbi = Entrez.read(handle, validate = False)\n",
    "handle.close()"
   ]
  },
  {
   "cell_type": "markdown",
   "metadata": {},
   "source": [
    "¿Qué tipo de información recuperamos?"
   ]
  },
  {
   "cell_type": "code",
   "execution_count": 21,
   "metadata": {},
   "outputs": [
    {
     "data": {
      "text/plain": [
       "Bio.Entrez.Parser.DictionaryElement"
      ]
     },
     "execution_count": 21,
     "metadata": {},
     "output_type": "execute_result"
    }
   ],
   "source": [
    "type(bases_ncbi)"
   ]
  },
  {
   "cell_type": "code",
   "execution_count": 22,
   "metadata": {},
   "outputs": [
    {
     "data": {
      "text/plain": [
       "dict_keys(['DbList'])"
      ]
     },
     "execution_count": 22,
     "metadata": {},
     "output_type": "execute_result"
    }
   ],
   "source": [
    "bases_ncbi.keys()"
   ]
  },
  {
   "cell_type": "markdown",
   "metadata": {},
   "source": [
    "¿Qué es esto?\n",
    "La API del NCBI nos devolvió una lista de todas sus bases de datos en formato XML, que es un formato bastante popular para intercambiar información entre computadoras. Con la función *Entrez.read()* convertimos la información en XML directamente a una variante de diccionario, que es más fácil de trabajar. Además en algunos casos, el XML no aparece correctamente formateado."
   ]
  },
  {
   "cell_type": "code",
   "execution_count": 23,
   "metadata": {},
   "outputs": [
    {
     "data": {
      "text/plain": [
       "['pubmed', 'protein', 'nuccore', 'ipg', 'nucleotide', 'structure', 'genome', 'annotinfo', 'assembly', 'bioproject', 'biosample', 'blastdbinfo', 'books', 'cdd', 'clinvar', 'gap', 'gapplus', 'grasp', 'dbvar', 'gene', 'gds', 'geoprofiles', 'homologene', 'medgen', 'mesh', 'ncbisearch', 'nlmcatalog', 'omim', 'orgtrack', 'pmc', 'popset', 'proteinclusters', 'pcassay', 'protfam', 'biosystems', 'pccompound', 'pcsubstance', 'seqannot', 'snp', 'sra', 'taxonomy', 'biocollections', 'gtr']"
      ]
     },
     "execution_count": 23,
     "metadata": {},
     "output_type": "execute_result"
    }
   ],
   "source": [
    "bases_ncbi['DbList']"
   ]
  },
  {
   "cell_type": "markdown",
   "metadata": {},
   "source": [
    "Esta es la lista de bases de datos del NCBI y que están disponibles para consultar usando utilidades de la API."
   ]
  },
  {
   "cell_type": "markdown",
   "metadata": {},
   "source": [
    "En el último paso de la búsqueda por KEGG habíamos encontrado una referencia al registro del gen correspondiente en el NCBI: \"NCBI-GeneID: 850714\". Hay diferentes formas de consultar acerca un gen usando Entrez. Vamos por pasos:"
   ]
  },
  {
   "cell_type": "code",
   "execution_count": 24,
   "metadata": {},
   "outputs": [],
   "source": [
    "summ_handle = Entrez.esummary(db=\"gene\", id=\"850714\")\n",
    "summ_gene = Entrez.read(summ_handle)"
   ]
  },
  {
   "cell_type": "markdown",
   "metadata": {},
   "source": [
    "Entrez nos devuelve una estrucura algo compleja, es una variante de diccionario que contiene otro diccionario, y que finalmente tiene una lista."
   ]
  },
  {
   "cell_type": "code",
   "execution_count": 25,
   "metadata": {},
   "outputs": [
    {
     "data": {
      "text/plain": [
       "Bio.Entrez.Parser.DictionaryElement"
      ]
     },
     "execution_count": 25,
     "metadata": {},
     "output_type": "execute_result"
    }
   ],
   "source": [
    "type(summ_gene)"
   ]
  },
  {
   "cell_type": "markdown",
   "metadata": {},
   "source": [
    "Ustedes pueden investigar los pasos intermedios, pero para abreviar, la información que nos interesa está aquí:"
   ]
  },
  {
   "cell_type": "code",
   "execution_count": 26,
   "metadata": {},
   "outputs": [],
   "source": [
    "record_summ = summ_gene['DocumentSummarySet']['DocumentSummary'][0]"
   ]
  },
  {
   "cell_type": "code",
   "execution_count": 27,
   "metadata": {},
   "outputs": [
    {
     "data": {
      "text/plain": [
       "dict_keys(['Name', 'Description', 'Status', 'CurrentID', 'Chromosome', 'GeneticSource', 'MapLocation', 'OtherAliases', 'OtherDesignations', 'NomenclatureSymbol', 'NomenclatureName', 'NomenclatureStatus', 'Mim', 'GenomicInfo', 'GeneWeight', 'Summary', 'ChrSort', 'ChrStart', 'Organism', 'LocationHist'])"
      ]
     },
     "execution_count": 27,
     "metadata": {},
     "output_type": "execute_result"
    }
   ],
   "source": [
    "record_summ.keys()"
   ]
  },
  {
   "cell_type": "code",
   "execution_count": 28,
   "metadata": {},
   "outputs": [
    {
     "name": "stdout",
     "output_type": "stream",
     "text": [
      "Name : AAT2\n",
      "Description : aspartate transaminase AAT2\n",
      "Status : 0\n",
      "CurrentID : 0\n",
      "Chromosome : XII\n",
      "GeneticSource : genomic\n",
      "MapLocation : \n",
      "OtherAliases : YLR027C, ASP5\n",
      "OtherDesignations : aspartate transaminase AAT2\n",
      "NomenclatureSymbol : \n",
      "NomenclatureName : \n",
      "NomenclatureStatus : \n",
      "Mim : []\n",
      "GenomicInfo : [{'ChrLoc': 'XII', 'ChrAccVer': 'NC_001144.5', 'ChrStart': '198084', 'ChrStop': '196828', 'ExonCount': '1'}]\n",
      "GeneWeight : 1753\n",
      "Summary : \n",
      "ChrSort : 12\n",
      "ChrStart : 196828\n",
      "Organism : {'ScientificName': 'Saccharomyces cerevisiae S288C', 'CommonName': '', 'TaxID': '559292'}\n",
      "LocationHist : []\n"
     ]
    }
   ],
   "source": [
    "for key in record_summ:\n",
    "    print(key, ':', record_summ[key])"
   ]
  },
  {
   "cell_type": "markdown",
   "metadata": {},
   "source": [
    "Si quisiéramos recuperar la información en formato texto, como se muestra en la página web del NCBI, tenemos que proceder de otra forma, usando la función *Entrez.efetch()*:"
   ]
  },
  {
   "cell_type": "code",
   "execution_count": 29,
   "metadata": {},
   "outputs": [],
   "source": [
    "full_handle = Entrez.efetch(db=\"gene\", id=\"850714\", rettype=\"gb\", retmode=\"text\")\n",
    "full_gene = full_handle.read()"
   ]
  },
  {
   "cell_type": "markdown",
   "metadata": {},
   "source": [
    "Observen que en la segunda linea usamos una variante de *Entrez.read()*, pero el principio es el mismo:\n",
    "\n",
    "1. Comunicarse con el NCBi via Entrez y crear un *handle*\n",
    "2. Convertir el *handle* a algún objeto con el que podramos trabajar"
   ]
  },
  {
   "cell_type": "code",
   "execution_count": 30,
   "metadata": {},
   "outputs": [
    {
     "name": "stdout",
     "output_type": "stream",
     "text": [
      "\n",
      "1. AAT2\n",
      "aspartate transaminase AAT2 [Saccharomyces cerevisiae S288C]\n",
      "Other Aliases: YLR027C, ASP5\n",
      "Other Designations: aspartate transaminase AAT2\n",
      "Chromosome: XII\n",
      "Annotation: Chromosome XII NC_001144.5 (196829..198085, complement)\n",
      "ID: 850714\n",
      "\n",
      "\n"
     ]
    }
   ],
   "source": [
    "print(full_gene)"
   ]
  },
  {
   "cell_type": "markdown",
   "metadata": {},
   "source": [
    "### Propuesta de ejercicio"
   ]
  },
  {
   "cell_type": "markdown",
   "metadata": {},
   "source": [
    "Además del identificador del gen, el registro de KEGG incluía una referencia a la base de datos de proteínas del NCBI, \"NCBI-ProteinID: NP_013127\", pueden repetir el proceso anterior para recuperar este registro. "
   ]
  },
  {
   "cell_type": "markdown",
   "metadata": {},
   "source": [
    "### Recuperar información desde SGD (Saccharomyces Genome Database)"
   ]
  },
  {
   "cell_type": "markdown",
   "metadata": {},
   "source": [
    "La información inicial que teníamos de este gen incluía un registro en SGD: \"SGD: S000004017\". Biopython no tiene un *wrapper* de la API de SGD, pero podemos acceder a la API de SGD usando una tecnología llamada cURL o a través de una URL. \n",
    "\n",
    "cURL es un projecto que creó y mantiene una biblioteca o *library* llamada *libcurl* y una herramienta para usar por línea de comando (curl) para transferir datos mediante diferentes procotocols de red. Este sería el método más general y el que soportan la mayoría de las APIs. En nuestro caso, al contar con la posibilidad de interrogar la API con una URL nos permite escribir código más limpio, y con el mismo resultado\n"
   ]
  },
  {
   "cell_type": "code",
   "execution_count": 31,
   "metadata": {},
   "outputs": [],
   "source": [
    "import requests\n",
    "sgd_record = requests.get('https://www.yeastgenome.org/backend/locus/S000004017')"
   ]
  },
  {
   "cell_type": "markdown",
   "metadata": {},
   "source": [
    "La información que tenemos en *sgd_record* está en un formato que se llama JSON (\"jason\"), que es otro formato popular para intercambo de información. También se puede ver como un string en formato texto, que es dificil de leer. Las llamadas son:\n",
    "\n",
    "<pre>\n",
    "sgd_record.text\n",
    "sgd_record.json()\n",
    "</pre>"
   ]
  },
  {
   "cell_type": "markdown",
   "metadata": {},
   "source": [
    "Vamos a parsear el registro en formato JSON. Primero veamos el tipo:"
   ]
  },
  {
   "cell_type": "code",
   "execution_count": 32,
   "metadata": {},
   "outputs": [
    {
     "data": {
      "text/plain": [
       "dict"
      ]
     },
     "execution_count": 32,
     "metadata": {},
     "output_type": "execute_result"
    }
   ],
   "source": [
    "type(sgd_record.json())"
   ]
  },
  {
   "cell_type": "code",
   "execution_count": 33,
   "metadata": {},
   "outputs": [
    {
     "data": {
      "text/plain": [
       "dict"
      ]
     },
     "execution_count": 33,
     "metadata": {},
     "output_type": "execute_result"
    }
   ],
   "source": [
    "type(sgd_record.json())"
   ]
  },
  {
   "cell_type": "markdown",
   "metadata": {},
   "source": [
    "Es un diccionario, así que podemos buscar las claves:"
   ]
  },
  {
   "cell_type": "code",
   "execution_count": 34,
   "metadata": {},
   "outputs": [
    {
     "data": {
      "text/plain": [
       "dict_keys(['complexes', 'urls', 'interaction_overview', 'sgdid', 'paralogs', 'bioent_status', 'ecnumbers', 'locus_type', 'main_strain', 'history', 'disease_overview', 'literature_overview', 'format_name', 'qualifier', 'reference_mapping', 'paragraph', 'id', 'regulation_overview', 'description', 'link', 'genetic_position', 'phenotype_overview', 'qualities', 'aliases', 'complements', 'protein_overview', 'references', 'pathways', 'go_overview', 'gene_name', 'name_description', 'display_name'])"
      ]
     },
     "execution_count": 34,
     "metadata": {},
     "output_type": "execute_result"
    }
   ],
   "source": [
    "sgd_record.json().keys()"
   ]
  },
  {
   "cell_type": "markdown",
   "metadata": {},
   "source": [
    "A continuación siguen unos ejemplos:\n",
    "El primero es un valor de tipo string."
   ]
  },
  {
   "cell_type": "code",
   "execution_count": 35,
   "metadata": {},
   "outputs": [
    {
     "data": {
      "text/plain": [
       "'S288C'"
      ]
     },
     "execution_count": 35,
     "metadata": {},
     "output_type": "execute_result"
    }
   ],
   "source": [
    "sgd_record.json()[\"main_strain\"]"
   ]
  },
  {
   "cell_type": "markdown",
   "metadata": {},
   "source": [
    "En este otro caso el valor es un diccionario."
   ]
  },
  {
   "cell_type": "code",
   "execution_count": 36,
   "metadata": {},
   "outputs": [
    {
     "data": {
      "text/plain": [
       "{'total_count': 111,\n",
       " 'additional_count': 44,\n",
       " 'review_count': 8,\n",
       " 'primary_count': 21}"
      ]
     },
     "execution_count": 36,
     "metadata": {},
     "output_type": "execute_result"
    }
   ],
   "source": [
    "sgd_record.json()[\"literature_overview\"]"
   ]
  },
  {
   "cell_type": "markdown",
   "metadata": {},
   "source": [
    "Y en este otro son varios diccionarios anidados."
   ]
  },
  {
   "cell_type": "code",
   "execution_count": 37,
   "metadata": {},
   "outputs": [
    {
     "data": {
      "text/plain": [
       "{'paragraph': 'L-aspartate:2-oxoglutarate aminotransferase that binds pyridoxal phosphate; involved in amino acid metabolism ; localizes to mitochondria, peroxisome and cytsol',\n",
       " 'htp_biological_process_terms': [],\n",
       " 'manual_cellular_component_terms': [{'namespace': 'cellular component',\n",
       "   'term': {'display_name': 'cytosol', 'link': '/go/GO:0005829'},\n",
       "   'qualifiers': ['part of'],\n",
       "   'evidence_codes': [{'display_name': 'IDA',\n",
       "     'link': 'http://wiki.geneontology.org/index.php/Inferred_from_Direct_Assay_(IDA)'}]},\n",
       "  {'namespace': 'cellular component',\n",
       "   'term': {'display_name': 'peroxisome', 'link': '/go/GO:0005777'},\n",
       "   'qualifiers': ['part of'],\n",
       "   'evidence_codes': [{'display_name': 'IDA',\n",
       "     'link': 'http://wiki.geneontology.org/index.php/Inferred_from_Direct_Assay_(IDA)'},\n",
       "    {'display_name': 'IMP',\n",
       "     'link': 'http://wiki.geneontology.org/index.php/Inferred_from_Mutant_Phenotype_(IMP)'}]}],\n",
       " 'htp_cellular_component_terms': [],\n",
       " 'manual_molecular_function_terms': [{'namespace': 'molecular function',\n",
       "   'term': {'display_name': 'L-aspartate:2-oxoglutarate aminotransferase activity',\n",
       "    'link': '/go/GO:0004069'},\n",
       "   'qualifiers': ['enables'],\n",
       "   'evidence_codes': [{'display_name': 'IDA',\n",
       "     'link': 'http://wiki.geneontology.org/index.php/Inferred_from_Direct_Assay_(IDA)'},\n",
       "    {'display_name': 'IMP',\n",
       "     'link': 'http://wiki.geneontology.org/index.php/Inferred_from_Mutant_Phenotype_(IMP)'}]}],\n",
       " 'htp_molecular_function_terms': [],\n",
       " 'date_last_reviewed': '2008-01-21',\n",
       " 'computational_annotation_count': 15,\n",
       " 'manual_biological_process_terms': [{'namespace': 'biological process',\n",
       "   'term': {'display_name': 'asparagine biosynthetic process from oxaloacetate',\n",
       "    'link': '/go/GO:0019266'},\n",
       "   'qualifiers': ['involved in'],\n",
       "   'evidence_codes': [{'display_name': 'IC',\n",
       "     'link': 'http://wiki.geneontology.org/index.php/Inferred_by_Curator_(IC)'}]},\n",
       "  {'namespace': 'biological process',\n",
       "   'term': {'display_name': 'aspartate biosynthetic process',\n",
       "    'link': '/go/GO:0006532'},\n",
       "   'qualifiers': ['involved in'],\n",
       "   'evidence_codes': [{'display_name': 'IMP',\n",
       "     'link': 'http://wiki.geneontology.org/index.php/Inferred_from_Mutant_Phenotype_(IMP)'}]}],\n",
       " 'go_slim': [{'display_name': 'peroxisome', 'link': '/go/GO:0005777'},\n",
       "  {'display_name': 'transferase activity', 'link': '/go/GO:0016740'},\n",
       "  {'display_name': 'cellular amino acid metabolic process',\n",
       "   'link': '/go/GO:0006520'}]}"
      ]
     },
     "execution_count": 37,
     "metadata": {},
     "output_type": "execute_result"
    }
   ],
   "source": [
    "sgd_record.json()[\"go_overview\"]"
   ]
  },
  {
   "cell_type": "markdown",
   "metadata": {},
   "source": [
    "Para algunos campos complejos, como el anterior, la API de SGD permite interrogar ese item en forma específica. Para más información pueden consultar:\n",
    "\n",
    "https://www.yeastgenome.org/api/doc#/\n",
    "\n",
    "Dependiendo de la información que necesitemos recuperar de SGD es posible acceder a ella en forma programática con mayor o menor dificultad, para lograrlo es importante conocer cómo es la estructura de los datos con los que vamos a trabajar. Esta es una de las desventajas de no contar con un *wrapper*, pero lo esencial es que la información con más o menos trabajo, se puede extraer.\n"
   ]
  },
  {
   "cell_type": "code",
   "execution_count": null,
   "metadata": {},
   "outputs": [],
   "source": []
  }
 ],
 "metadata": {
  "kernelspec": {
   "display_name": "Python 3",
   "language": "python",
   "name": "python3"
  },
  "language_info": {
   "codemirror_mode": {
    "name": "ipython",
    "version": 3
   },
   "file_extension": ".py",
   "mimetype": "text/x-python",
   "name": "python",
   "nbconvert_exporter": "python",
   "pygments_lexer": "ipython3",
   "version": "3.8.5"
  }
 },
 "nbformat": 4,
 "nbformat_minor": 4
}
