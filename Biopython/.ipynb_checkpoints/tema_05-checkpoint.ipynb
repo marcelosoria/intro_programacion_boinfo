{
 "cells": [
  {
   "cell_type": "markdown",
   "metadata": {},
   "source": [
    "# Biopython. Introducción al análisis de secuencias"
   ]
  },
  {
   "cell_type": "markdown",
   "metadata": {},
   "source": [
    "Para poder trabajar con biopython primero hay que agregarlo a la lista de bibliotecas disponibles. Si están usando anaconda, la mejor forma es cargarlo utilizando conda desde el repositorio *conda-forge* donde está la versión más nueva para Windows, Linux y Mac OS X.\n",
    "\n",
    "Para esto hay que abrir una ventana de comando Anaconda, que en la lista de programas de Windows aparece como \"Anaconda Promp (anconda3)\":\n",
    "\n",
    "<pre>\n",
    "conda install -c conda-forge biopython\n",
    "</pre>\n",
    "\n",
    "Si biopython ya está instalado, pero necesitamos actualizarlo, el comando es:\n",
    "\n",
    "<pre>\n",
    "conda update -c conda-forge biopython\n",
    "</pre>\n",
    "\n",
    "Una vez que biopython está instalado o actualizado podemos utilizarlo desde una notebook como ésta, solo necesitmaos importarlo:"
   ]
  },
  {
   "cell_type": "code",
   "execution_count": 1,
   "metadata": {},
   "outputs": [],
   "source": [
    "import Bio\n",
    "del Bio"
   ]
  },
  {
   "cell_type": "markdown",
   "metadata": {},
   "source": [
    "Si los comandos anteriores corren sin devolver ningún mensaje de error, es que está todo en orden."
   ]
  },
  {
   "cell_type": "markdown",
   "metadata": {},
   "source": [
    "## Leer archivos de secuencias"
   ]
  },
  {
   "cell_type": "markdown",
   "metadata": {},
   "source": [
    "Entr e muchas otras utilidades, biopython contiene herramientas para leer diferentes tipos de archivos de secuencias. Una de estas herramientas permite leer y \"parsear\" archivos GenBank. El archivo S288c_mitochondrion.gb (verificar que esté en la carpeta de trabajo actual) es el registro en formato GenBank del genoma mitocondrial de la cepa de referencia *Saccharomyces cerevisiae S288c*, que se encunetra en este URL: \n",
    "\n",
    "https://www.ncbi.nlm.nih.gov/nuccore/NC_001224.1\n",
    "\n",
    "Vamos a cargar el archivo a nuestro ambiente de trabajo:"
   ]
  },
  {
   "cell_type": "code",
   "execution_count": 2,
   "metadata": {},
   "outputs": [
    {
     "name": "stdout",
     "output_type": "stream",
     "text": [
      "NC_001224.1\n"
     ]
    }
   ],
   "source": [
    "from Bio import SeqIO\n",
    "seq_mitocondria = SeqIO.read(\"S288c_mitochondrion.gb\", \"genbank\")\n",
    "print(seq_mitocondria.id)"
   ]
  },
  {
   "cell_type": "markdown",
   "metadata": {},
   "source": [
    "Con el comando que recién corrimos leimos el archivo y recuperamos su identificador, *id*. \n",
    "\n",
    "Antes de continuar prestemos atención a la forma en que recuperamos el número de acceso: *seq_mitocondria.id*. El método *SeqIO.read()* devuelve un objeto que contiene \"atributos\". Hasta ahora habíamos visto métodos asociados a objetos, pero los objetos además pueden incluir atributos. Esta es una de las ventajas de programar con orientación a objetos: se pueden encapsular datos (atributos) y métodos juntos."
   ]
  },
  {
   "cell_type": "markdown",
   "metadata": {},
   "source": [
    "¿Qué otros atributos contiene *seq_mitocondria*? Veamos algunos ejemplos interesantes:"
   ]
  },
  {
   "cell_type": "code",
   "execution_count": 3,
   "metadata": {},
   "outputs": [
    {
     "data": {
      "text/plain": [
       "'Saccharomyces cerevisiae S288c mitochondrion, complete genome'"
      ]
     },
     "execution_count": 3,
     "metadata": {},
     "output_type": "execute_result"
    }
   ],
   "source": [
    "seq_mitocondria.description"
   ]
  },
  {
   "cell_type": "markdown",
   "metadata": {},
   "source": [
    "Si se fijan en el registro de esta secuencia en el NCBI verán que el texto del atributo *description* coincide con el texto que aparece como título de la secuencia.\n",
    "\n",
    "A continuación vamos a recuperar las anotaciones globales de la secuencia, que son aquellas que se refieren a toda la secuencia y no a un locus individual en la mitocondría:"
   ]
  },
  {
   "cell_type": "code",
   "execution_count": 4,
   "metadata": {},
   "outputs": [
    {
     "data": {
      "text/plain": [
       "{'molecule_type': 'DNA',\n",
       " 'topology': 'circular',\n",
       " 'data_file_division': 'PLN',\n",
       " 'date': '09-MAR-2021',\n",
       " 'accessions': ['NC_001224'],\n",
       " 'sequence_version': 1,\n",
       " 'keywords': ['RefSeq'],\n",
       " 'source': 'mitochondrion Saccharomyces cerevisiae S288C',\n",
       " 'organism': 'Saccharomyces cerevisiae S288C',\n",
       " 'taxonomy': ['Eukaryota',\n",
       "  'Fungi',\n",
       "  'Dikarya',\n",
       "  'Ascomycota',\n",
       "  'Saccharomycotina',\n",
       "  'Saccharomycetes',\n",
       "  'Saccharomycetales',\n",
       "  'Saccharomycetaceae',\n",
       "  'Saccharomyces'],\n",
       " 'references': [Reference(title='The complete sequence of the mitochondrial genome of Saccharomyces cerevisiae', ...),\n",
       "  Reference(title='Direct Submission', ...),\n",
       "  Reference(title='Direct Submission', ...),\n",
       "  Reference(title='Direct Submission', ...)],\n",
       " 'comment': 'PROVISIONAL REFSEQ: This record has not yet been subject to final\\nNCBI review. The reference sequence is identical to KP263414.\\nCOMPLETENESS: full length.'}"
      ]
     },
     "execution_count": 4,
     "metadata": {},
     "output_type": "execute_result"
    }
   ],
   "source": [
    "seq_mitocondria.annotations"
   ]
  },
  {
   "cell_type": "markdown",
   "metadata": {},
   "source": [
    "Observen las llaves {}, esto indica que las anotaciones están almacendas en un diccionario. Usando lo que ya conocemos sobre diccionarios, podemos recuperar items individuales de la anotación global:"
   ]
  },
  {
   "cell_type": "code",
   "execution_count": 5,
   "metadata": {},
   "outputs": [
    {
     "data": {
      "text/plain": [
       "['Eukaryota',\n",
       " 'Fungi',\n",
       " 'Dikarya',\n",
       " 'Ascomycota',\n",
       " 'Saccharomycotina',\n",
       " 'Saccharomycetes',\n",
       " 'Saccharomycetales',\n",
       " 'Saccharomycetaceae',\n",
       " 'Saccharomyces']"
      ]
     },
     "execution_count": 5,
     "metadata": {},
     "output_type": "execute_result"
    }
   ],
   "source": [
    "seq_mitocondria.annotations['taxonomy']"
   ]
  },
  {
   "cell_type": "markdown",
   "metadata": {},
   "source": [
    "También podemos recuperar la secuencia completa del genoma mitocondríal. Esto es útil para trabajar con otras funciones. Si lo que queremos es sólo extraer la secuencia para crear un archivo fasta, existe una forma más práctica de hacerlo."
   ]
  },
  {
   "cell_type": "code",
   "execution_count": 6,
   "metadata": {},
   "outputs": [
    {
     "data": {
      "text/plain": [
       "Seq('TTCATAATTAATTTTTTATATATATATTATATTATAATATTAATTTATATTATA...ATA')"
      ]
     },
     "execution_count": 6,
     "metadata": {},
     "output_type": "execute_result"
    }
   ],
   "source": [
    "seq_mitocondria.seq"
   ]
  },
  {
   "cell_type": "code",
   "execution_count": 7,
   "metadata": {},
   "outputs": [
    {
     "data": {
      "text/plain": [
       "Bio.Seq.Seq"
      ]
     },
     "execution_count": 7,
     "metadata": {},
     "output_type": "execute_result"
    }
   ],
   "source": [
    "type(seq_mitocondria.seq)"
   ]
  },
  {
   "cell_type": "markdown",
   "metadata": {},
   "source": [
    "El largo de esta secuencia es:"
   ]
  },
  {
   "cell_type": "code",
   "execution_count": 8,
   "metadata": {},
   "outputs": [
    {
     "data": {
      "text/plain": [
       "85779"
      ]
     },
     "execution_count": 8,
     "metadata": {},
     "output_type": "execute_result"
    }
   ],
   "source": [
    "len(seq_mitocondria.seq)"
   ]
  },
  {
   "cell_type": "markdown",
   "metadata": {},
   "source": [
    "¿Coincide esta longitud con la informada en el registro en la web del NCBI? \n",
    "\n",
    "Si precisáramos imprimir o mostrar en pantalla los primeros 100 nucleótidos podríamos hacer esto:"
   ]
  },
  {
   "cell_type": "code",
   "execution_count": 9,
   "metadata": {},
   "outputs": [
    {
     "data": {
      "text/plain": [
       "Seq('TTCATAATTAATTTTTTATATATATATTATATTATAATATTAATTTATATTATA...ATA')"
      ]
     },
     "execution_count": 9,
     "metadata": {},
     "output_type": "execute_result"
    }
   ],
   "source": [
    "seq_mitocondria.seq"
   ]
  },
  {
   "cell_type": "code",
   "execution_count": 10,
   "metadata": {},
   "outputs": [
    {
     "name": "stdout",
     "output_type": "stream",
     "text": [
      "TTCATAATTAATTTTTTATATATATATTATATTATAATATTAATTTATATTATAAAAATAATATTTATTATTAAAATATTTATTCTCCTTTCGGGGTTCC\n"
     ]
    }
   ],
   "source": [
    "print(seq_mitocondria.seq[0:100])"
   ]
  },
  {
   "cell_type": "markdown",
   "metadata": {},
   "source": [
    "### Escribir un archivo fasta a partir de un registro GenBank"
   ]
  },
  {
   "cell_type": "markdown",
   "metadata": {},
   "source": [
    "Con el método *SeqIO.write()* podemos crear un archivo fasta a partir de *seq_mitocondría*"
   ]
  },
  {
   "cell_type": "code",
   "execution_count": 11,
   "metadata": {},
   "outputs": [
    {
     "data": {
      "text/plain": [
       "1"
      ]
     },
     "execution_count": 11,
     "metadata": {},
     "output_type": "execute_result"
    }
   ],
   "source": [
    "SeqIO.write(seq_mitocondria, \"S288c_mitochondrion.fasta\", \"fasta\")"
   ]
  },
  {
   "cell_type": "markdown",
   "metadata": {},
   "source": [
    "### Iterar el registro GenBank para recuperar los genes individuales"
   ]
  },
  {
   "cell_type": "markdown",
   "metadata": {},
   "source": [
    "Hasta ahora trabajamos con los datos globales del registro GenBank, pero éste además incluye la información de cada uno de los loci genoma mitocondrial. Para acceder a los loci individuales necesitamos un iterador. Esto se puede hacer iterando sobre el atributo *features* de nuestro objeto *seq_mitocondria*. \n",
    "\n",
    "En el ejemplo que sigue recorremos los componentes de la lista *seq_mitocondria.features* para determinar el tipo de cada componente. Aquí lo hacemos solo para los doce primeros elementos para reducir el largo de la salida:"
   ]
  },
  {
   "cell_type": "code",
   "execution_count": 12,
   "metadata": {},
   "outputs": [
    {
     "name": "stdout",
     "output_type": "stream",
     "text": [
      "source\n",
      "gene\n",
      "tRNA\n",
      "rep_origin\n",
      "gene\n",
      "rRNA\n",
      "gene\n",
      "tRNA\n",
      "rep_origin\n",
      "gene\n",
      "CDS\n"
     ]
    }
   ],
   "source": [
    "for feature in seq_mitocondria.features[0:11]:\n",
    "    print(feature.type)"
   ]
  },
  {
   "cell_type": "markdown",
   "metadata": {},
   "source": [
    "El primer elemento es de tipo \"source\", esa es la información global del registro, por el momento no nos va a interesar. En cambio, veamos algún elemento diferente del elemento cero en detalle, por ejemplo el que sigue, que es un gen:"
   ]
  },
  {
   "cell_type": "code",
   "execution_count": 13,
   "metadata": {},
   "outputs": [
    {
     "name": "stdout",
     "output_type": "stream",
     "text": [
      "type: gene\n",
      "location: [730:802](+)\n",
      "qualifiers:\n",
      "    Key: db_xref, Value: ['GeneID:854578', 'SGD:S000007328']\n",
      "    Key: locus_tag, Value: ['tP(UGG)Q']\n",
      "\n"
     ]
    }
   ],
   "source": [
    "print(seq_mitocondria.features[1])"
   ]
  },
  {
   "cell_type": "markdown",
   "metadata": {},
   "source": [
    "Vemos que además de *type* hay otros items de información interesantes. Pero antes de continuar, determinemos la clase del objeto con el que estamos interactuando:\n"
   ]
  },
  {
   "cell_type": "code",
   "execution_count": 14,
   "metadata": {},
   "outputs": [
    {
     "data": {
      "text/plain": [
       "Bio.SeqFeature.SeqFeature"
      ]
     },
     "execution_count": 14,
     "metadata": {},
     "output_type": "execute_result"
    }
   ],
   "source": [
    "type(seq_mitocondria.features[1])"
   ]
  },
  {
   "cell_type": "markdown",
   "metadata": {},
   "source": [
    "La clase *SeqFeature* sirve para poder leer o escribir cada uno de los elementos individuales de la colección de *features*. Con la función *dir()* podemos determinar todos los atributos de una colección:\n",
    "\n",
    "<pre>\n",
    "dir(seq_mitocondria.features[1])\n",
    "</pre>\n",
    "\n",
    "Este comando nos va a devolver una larga lista de atributos, de estos nos interesan los últimos:\n",
    "\n",
    "* extract\n",
    "* id\n",
    "* location\n",
    "* location_operator\n",
    "* qualifiers\n",
    "* ref\n",
    "* ref_db\n",
    "* strand\n",
    "* translate\n",
    "* type\n",
    "\n",
    "Dependiendo del tipo del componente podríamos ver más o menos atributos. El último, *type*, ya lo usamos, y está presente para todos los elementos. Para otros dependerá de lo que la anotación haya registrado para ese elemento."
   ]
  },
  {
   "cell_type": "markdown",
   "metadata": {},
   "source": [
    "Llegados a este punto es importante entender cómo se organiza la anotación en un registro GenBank. Es un archivo de texto, así que les recomiendo abrirlo en otra ventana.\n",
    "\n",
    "Aquí tenemos la información de los elementos 1 y 2 de la lista que venimos analizando:\n",
    "\n",
    "     gene            731..802\n",
    "                     /locus_tag=\"tP(UGG)Q\"\n",
    "                     /db_xref=\"GeneID:854578\"\n",
    "                     /db_xref=\"SGD:S000007328\"\n",
    "     tRNA            731..802\n",
    "                     /locus_tag=\"tP(UGG)Q\"\n",
    "                     /product=\"tRNA-Pro\"\n",
    "                     /experiment=\"EXISTENCE:curator inference:GO:0005739\n",
    "                     mitochondrion [PMID:9023104]\"\n",
    "                     /experiment=\"EXISTENCE:curator inference:GO:0070125\n",
    "                     mitochondrial translational elongation [PMID:9023104]\"\n",
    "                     /note=\"Mitochondrial proline tRNA (tRNA-Pro)\"\n",
    "                     /db_xref=\"GeneID:854578\"\n",
    "                     /db_xref=\"SGD:S000007328\"\n",
    "\n",
    "¿Qué sucede aquí?\n",
    "Hay dos entradas consecutivas, una de tipo \"gene\" y otra de tipo \"tRNA\" que se refieren a la misma locación. La anotación \"gene\" es más general, ya que tanto la entrada para un tRNA como la de un gen que codifica para un péptido (CDS) van a estar precedidos por una entrada \"gene\". Es importante tener cuidado con esto, porque si uno no lo tiene en cuenta y \"parsea\" todas las entradas, va a terminar con información duplicada.\n",
    "\n",
    "Veamos ahora la información que podemos encontrar en el atributo *.qualifiers*:"
   ]
  },
  {
   "cell_type": "code",
   "execution_count": 15,
   "metadata": {},
   "outputs": [
    {
     "data": {
      "text/plain": [
       "OrderedDict([('locus_tag', ['tP(UGG)Q']),\n",
       "             ('product', ['tRNA-Pro']),\n",
       "             ('experiment',\n",
       "              ['EXISTENCE:curator inference:GO:0005739 mitochondrion [PMID:9023104]',\n",
       "               'EXISTENCE:curator inference:GO:0070125 mitochondrial translational elongation [PMID:9023104]']),\n",
       "             ('note', ['Mitochondrial proline tRNA (tRNA-Pro)']),\n",
       "             ('db_xref', ['GeneID:854578', 'SGD:S000007328'])])"
      ]
     },
     "execution_count": 15,
     "metadata": {},
     "output_type": "execute_result"
    }
   ],
   "source": [
    "seq_mitocondria.features[2].qualifiers"
   ]
  },
  {
   "cell_type": "markdown",
   "metadata": {},
   "source": [
    "El tipo de dato *.qualifiers* es un OrderedDict, una variante del tipo diccionario. Ya sabemos unas cuantas cosas sobre cómo trabajar con diccionarios:"
   ]
  },
  {
   "cell_type": "code",
   "execution_count": 16,
   "metadata": {},
   "outputs": [
    {
     "data": {
      "text/plain": [
       "odict_keys(['locus_tag', 'product', 'experiment', 'note', 'db_xref'])"
      ]
     },
     "execution_count": 16,
     "metadata": {},
     "output_type": "execute_result"
    }
   ],
   "source": [
    "seq_mitocondria.features[2].qualifiers.keys()"
   ]
  },
  {
   "cell_type": "code",
   "execution_count": 17,
   "metadata": {},
   "outputs": [
    {
     "data": {
      "text/plain": [
       "['GeneID:854578', 'SGD:S000007328']"
      ]
     },
     "execution_count": 17,
     "metadata": {},
     "output_type": "execute_result"
    }
   ],
   "source": [
    "seq_mitocondria.features[2].qualifiers['db_xref']"
   ]
  },
  {
   "cell_type": "markdown",
   "metadata": {},
   "source": [
    "## Un ejemplo completo"
   ]
  },
  {
   "cell_type": "markdown",
   "metadata": {},
   "source": [
    "Vamos a poner en uso lo que estuvimos aprendiendo, y en el camino aprender algunas cosas más. La propuesta es, a partir del archivo GenBank de la secuencia mitocondrial crear un archivo fasta conteniendo las secuencias de los transcriptos que codifican para los tRNA, en el sentido en que se transcriben.\n",
    "\n",
    "Cosas a tener en cuenta:\n",
    "\n",
    "* Para saber si un locus se debe procesar hay que determinar que el tipo sea \"tRNA\".\n",
    "* El atributo *location* tiene la información completa de ubicación. Es necesario \"parsearlo\".\n",
    "* El atributo *strand* nos indica si la secuencia que se muestra es la secuencia codificante (1) o la secuencia molde (-1).\n",
    "* Precisamos las secuencias transcriptas, por lo que necesitamos reemplazar T por U.\n",
    "* Para que el ejemplo quede completo, repetimos el paso de lectura del archivo.\n",
    "\n",
    "Pasos:\n",
    "1. Cargamos dos módulos, SeqIO y SeqRecord.\n",
    "2. Leemos el archivo GenBank.\n",
    "3. Creamos una lista vacía, donde luego vamos a ir cargando cada secuencia de los tRNAs.\n",
    "4. Iteramos la lista de \"features\", si es un tRNA:\n",
    "   * Extraemos las posiciones inicial y final del gen, extraemos la secuencia deseada de la secuencia del genoma completo.\n",
    "   * Extreamos los números de acceso y el nombre de la secuencia.\n",
    "   * Armamos la descripción de la secuencia.\n",
    "   * Si la cadena codificante es la complementaria de la que tenemos, determinamos el reverso complemento.\n",
    "   * Con *SeqRecord()* construimos el registro del tRNA para el archivo fasta.\n",
    "   * Lo agregamos a la lista\n",
    "5. Escribir el archivo fasta \n"
   ]
  },
  {
   "cell_type": "code",
   "execution_count": 18,
   "metadata": {},
   "outputs": [
    {
     "data": {
      "text/plain": [
       "24"
      ]
     },
     "execution_count": 18,
     "metadata": {},
     "output_type": "execute_result"
    }
   ],
   "source": [
    "from Bio import SeqIO\n",
    "from Bio.SeqRecord import SeqRecord\n",
    "\n",
    "seq_mitocondria = SeqIO.read(\"S288c_mitochondrion.gb\", \"genbank\")\n",
    "\n",
    "tRNA_list = list()\n",
    "\n",
    "for feature in seq_mitocondria.features:\n",
    "    if feature.type == \"tRNA\":\n",
    "        \n",
    "        start_pos = feature.location.start.position\n",
    "        end_pos = feature.location.end.position\n",
    "        seq_trna  = seq_mitocondria.seq[start_pos:end_pos]\n",
    "        # Determinar dónde empieza y termina el gen, extraer la secuencia\n",
    "        \n",
    "        id = feature.qualifiers['db_xref'][0]\n",
    "        description = feature.qualifiers['db_xref'][1] + \" \" + feature.qualifiers['product'][0] \n",
    "        # Determinar el id y redactar la descripción\n",
    "        \n",
    "        if feature.strand == 1:\n",
    "            seq_trna = seq_trna.transcribe()\n",
    "        else:\n",
    "            seq_trna = seq_trna.reverse_complement().transcribe()\n",
    "        # Realizar la transcripción del gen. Se es necesario antes determinar el reverso complemento\n",
    "        \n",
    "        seq_temp = SeqRecord(seq_trna, id = id, description = description)\n",
    "        tRNA_list.append(seq_temp)\n",
    "        # Construir el nuevo registro y agregarlo a la lista\n",
    "\n",
    "SeqIO.write(tRNA_list, \"S288c_mitochondrion_tRNAs.fasta\", \"fasta\")\n",
    "# Escribir el archivo fasta"
   ]
  },
  {
   "cell_type": "markdown",
   "metadata": {},
   "source": [
    "## ¿Fin de semana de lluvia? ¿de cuarentena?"
   ]
  },
  {
   "cell_type": "markdown",
   "metadata": {},
   "source": [
    "A este script se le pueden hacer varias extensiones. La primera es muy sencilla y es una modificación menor: se pueden buscar los genes ribosomales y armar un archivo diferente con ellos.\n",
    "\n",
    "Otra modificación es extraer los genes codificantes. Primero se pueden hacer un archivo fasta de las secuencias genómicas y después de las secuencias traducidas, porque ya están en el registro del NCBI. Por ejemplo:"
   ]
  },
  {
   "cell_type": "code",
   "execution_count": 19,
   "metadata": {},
   "outputs": [
    {
     "name": "stdout",
     "output_type": "stream",
     "text": [
      "['MVQRWLYSTNAKDIAVLYFMLAIFSGMAGTAMSLIIRLELAAPGSQYLHGNSQLFNVLVVGHAVLMIFFLVMPALIGGFGNYLLPLMIGATDTAFPRINNIAFWVLPMGLVCLVTSTLVESGAGTGWTVYPPLSSIQAHSGPSVDLAIFALHLTSISSLLGAINFIVTTLNMRTNGMTMHKLPLFVWSIFITAFLLLLSLPVLSAGITMLLLDRNFNTSFFEVSGGGDPILYEHLFWFFGHPEVYILIIPGFGIISHVVSTYSKKPVFGEISMVYAMASIGLLGFLVWSHHMYIVGLDADTRAYFTSATMIIAIPTGIKIFSWLATIHGGSIRLATPMLYAIAFLFLFTMGGLTGVALANASLDVAFHDTYYVVGHFHYVLSMGAIFSLFAGYYYWSPQILGLNYNEKLAQIQFWLIFIGANVIFFPMHFLGINGMPRRIPDYPDAFAGWNYVASIGSFIATLSLFLFIYILYDQLVNGLNNKVNNKSVIYNKAPDFVESNTIFNLNTVKSSSIEFLLTSPPAVHSFNTPAVQS']\n"
     ]
    }
   ],
   "source": [
    "print(seq_mitocondria.features[10].qualifiers[\"translation\"])"
   ]
  },
  {
   "cell_type": "markdown",
   "metadata": {},
   "source": [
    "Si quieren traducirlas ustedes, tengan en cuenta que la mitocondría de *S. cerevisiae* usa otro código genético (https://www.ncbi.nlm.nih.gov/Taxonomy/Utils/wprintgc.cgi#SG3), esta información se le puede pasar al método *translate()*. y además hay que considerar que las secuencias inmaduras contienen intrones, que se eliminan en la secuencia madura del mRNA. Es decir, no se puede usar la secuencia genómica sin procesar.\n"
   ]
  },
  {
   "cell_type": "markdown",
   "metadata": {},
   "source": [
    "## ¿Cómo seguir?\n",
    "\n",
    "Biopython puede leer y escribir secuencias en muchos formatos diferentes, además de GenBank y fasta. También se puede trabajar con niveles de detalle mucho más finos que los que hicimos aqui en cuanto a lectura y escritura de archivos, y existen formas alternativas de hacer algunas de las cosas que hicimos acá. Por ejemplo, en el tutorial oficial de Biopython (http://biopython.org/DIST/docs/tutorial/Tutorial.html) verán que la forma preferida de iterar es usando *SeqIO.parse()* en lugar de *SeqIO.read()*. La opción *parse()* permite generar código un poco más compacto, pero creo que para aprender *SeqIO.read()* genera código algo más claro.\n",
    "\n",
    "También es importante aprender cómo optimizar el código cuando se trabajan con genomas relamente grandes, como pueden ser varios vegetales.\n"
   ]
  },
  {
   "cell_type": "code",
   "execution_count": null,
   "metadata": {},
   "outputs": [],
   "source": []
  }
 ],
 "metadata": {
  "kernelspec": {
   "display_name": "Python 3",
   "language": "python",
   "name": "python3"
  },
  "language_info": {
   "codemirror_mode": {
    "name": "ipython",
    "version": 3
   },
   "file_extension": ".py",
   "mimetype": "text/x-python",
   "name": "python",
   "nbconvert_exporter": "python",
   "pygments_lexer": "ipython3",
   "version": "3.8.5"
  }
 },
 "nbformat": 4,
 "nbformat_minor": 4
}
